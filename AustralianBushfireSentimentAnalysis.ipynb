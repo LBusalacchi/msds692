{
 "cells": [
  {
   "cell_type": "markdown",
   "metadata": {},
   "source": [
    "# Climate Tweets In Response to the Australian Bushfires\n",
    "\n",
    "Climate Change has long been a hot button issue, but with the recent Australian Bushfires one could argue that the subject has spent more time than previously front in center of social media. However, has this crisis changed the tenor of postings in regard to climate change? Using a previously curated dataset of tweets with the key phrases \"Climate Change\", \"Climate Crisis\", or \"Global Warming\" I seek to answer this question with a sentiment analysis using the Python language.\n",
    "\n",
    "## EDA\n",
    "\n",
    "Before we start, it's important to understand the data we have available, and ensure we have the fields necessary to complete the sentiment analysis and understand the results. "
   ]
  },
  {
   "cell_type": "code",
   "execution_count": 1,
   "metadata": {},
   "outputs": [],
   "source": [
    "import pandas as pd\n",
    "from datetime import datetime as dt"
   ]
  },
  {
   "cell_type": "markdown",
   "metadata": {},
   "source": [
    "We begin by reading the file of tweets and taking a look at what is already there."
   ]
  },
  {
   "cell_type": "code",
   "execution_count": 2,
   "metadata": {},
   "outputs": [],
   "source": [
    "original_tweets = pd.read_csv(\"D:/Practicum1/tweets.csv\")"
   ]
  },
  {
   "cell_type": "code",
   "execution_count": 3,
   "metadata": {},
   "outputs": [
    {
     "data": {
      "text/html": [
       "<div>\n",
       "<style scoped>\n",
       "    .dataframe tbody tr th:only-of-type {\n",
       "        vertical-align: middle;\n",
       "    }\n",
       "\n",
       "    .dataframe tbody tr th {\n",
       "        vertical-align: top;\n",
       "    }\n",
       "\n",
       "    .dataframe thead th {\n",
       "        text-align: right;\n",
       "    }\n",
       "</style>\n",
       "<table border=\"1\" class=\"dataframe\">\n",
       "  <thead>\n",
       "    <tr style=\"text-align: right;\">\n",
       "      <th></th>\n",
       "      <th>Unnamed: 0</th>\n",
       "      <th>0</th>\n",
       "      <th>1</th>\n",
       "      <th>2</th>\n",
       "      <th>3</th>\n",
       "    </tr>\n",
       "  </thead>\n",
       "  <tbody>\n",
       "    <tr>\n",
       "      <th>0</th>\n",
       "      <td>0</td>\n",
       "      <td>1079527504325406720</td>\n",
       "      <td>sherianbird</td>\n",
       "      <td>Yeah right, #DumbassGovBrown Men fought in WWI...</td>\n",
       "      <td>2018-12-30 23:59:48+00:00</td>\n",
       "    </tr>\n",
       "    <tr>\n",
       "      <th>1</th>\n",
       "      <td>1</td>\n",
       "      <td>1079527402727006208</td>\n",
       "      <td>Grumpy_Paddy</td>\n",
       "      <td>One bee doesn't make climate change. Bees have...</td>\n",
       "      <td>2018-12-30 23:59:24+00:00</td>\n",
       "    </tr>\n",
       "    <tr>\n",
       "      <th>2</th>\n",
       "      <td>2</td>\n",
       "      <td>1079527384397856769</td>\n",
       "      <td>MalphasEternal</td>\n",
       "      <td>Ken also conveniently forgets that there are i...</td>\n",
       "      <td>2018-12-30 23:59:19+00:00</td>\n",
       "    </tr>\n",
       "    <tr>\n",
       "      <th>3</th>\n",
       "      <td>3</td>\n",
       "      <td>1079527360012189696</td>\n",
       "      <td>teambernie27001</td>\n",
       "      <td>Climate Change is a crisis requiring immediate...</td>\n",
       "      <td>2018-12-30 23:59:13+00:00</td>\n",
       "    </tr>\n",
       "    <tr>\n",
       "      <th>4</th>\n",
       "      <td>4</td>\n",
       "      <td>1079527333357330432</td>\n",
       "      <td>ArchitectsDCA</td>\n",
       "      <td>You know that #capandtrade is the best model f...</td>\n",
       "      <td>2018-12-30 23:59:07+00:00</td>\n",
       "    </tr>\n",
       "  </tbody>\n",
       "</table>\n",
       "</div>"
      ],
      "text/plain": [
       "   Unnamed: 0                    0                1  \\\n",
       "0           0  1079527504325406720      sherianbird   \n",
       "1           1  1079527402727006208     Grumpy_Paddy   \n",
       "2           2  1079527384397856769   MalphasEternal   \n",
       "3           3  1079527360012189696  teambernie27001   \n",
       "4           4  1079527333357330432    ArchitectsDCA   \n",
       "\n",
       "                                                   2  \\\n",
       "0  Yeah right, #DumbassGovBrown Men fought in WWI...   \n",
       "1  One bee doesn't make climate change. Bees have...   \n",
       "2  Ken also conveniently forgets that there are i...   \n",
       "3  Climate Change is a crisis requiring immediate...   \n",
       "4  You know that #capandtrade is the best model f...   \n",
       "\n",
       "                           3  \n",
       "0  2018-12-30 23:59:48+00:00  \n",
       "1  2018-12-30 23:59:24+00:00  \n",
       "2  2018-12-30 23:59:19+00:00  \n",
       "3  2018-12-30 23:59:13+00:00  \n",
       "4  2018-12-30 23:59:07+00:00  "
      ]
     },
     "execution_count": 3,
     "metadata": {},
     "output_type": "execute_result"
    }
   ],
   "source": [
    "original_tweets.head()"
   ]
  },
  {
   "cell_type": "code",
   "execution_count": 4,
   "metadata": {},
   "outputs": [
    {
     "name": "stdout",
     "output_type": "stream",
     "text": [
      "Unnamed: 0\n",
      "0\n",
      "1\n",
      "2\n",
      "3\n"
     ]
    }
   ],
   "source": [
    "for col in original_tweets.columns: \n",
    "    print(col)"
   ]
  },
  {
   "cell_type": "markdown",
   "metadata": {},
   "source": [
    "None of the columns came in with names, so let's assign them."
   ]
  },
  {
   "cell_type": "code",
   "execution_count": 5,
   "metadata": {},
   "outputs": [
    {
     "data": {
      "text/html": [
       "<div>\n",
       "<style scoped>\n",
       "    .dataframe tbody tr th:only-of-type {\n",
       "        vertical-align: middle;\n",
       "    }\n",
       "\n",
       "    .dataframe tbody tr th {\n",
       "        vertical-align: top;\n",
       "    }\n",
       "\n",
       "    .dataframe thead th {\n",
       "        text-align: right;\n",
       "    }\n",
       "</style>\n",
       "<table border=\"1\" class=\"dataframe\">\n",
       "  <thead>\n",
       "    <tr style=\"text-align: right;\">\n",
       "      <th></th>\n",
       "      <th>row_id</th>\n",
       "      <th>tweet_id</th>\n",
       "      <th>username</th>\n",
       "      <th>text</th>\n",
       "      <th>date_time</th>\n",
       "    </tr>\n",
       "  </thead>\n",
       "  <tbody>\n",
       "    <tr>\n",
       "      <th>0</th>\n",
       "      <td>0</td>\n",
       "      <td>1079527504325406720</td>\n",
       "      <td>sherianbird</td>\n",
       "      <td>Yeah right, #DumbassGovBrown Men fought in WWI...</td>\n",
       "      <td>2018-12-30 23:59:48+00:00</td>\n",
       "    </tr>\n",
       "    <tr>\n",
       "      <th>1</th>\n",
       "      <td>1</td>\n",
       "      <td>1079527402727006208</td>\n",
       "      <td>Grumpy_Paddy</td>\n",
       "      <td>One bee doesn't make climate change. Bees have...</td>\n",
       "      <td>2018-12-30 23:59:24+00:00</td>\n",
       "    </tr>\n",
       "    <tr>\n",
       "      <th>2</th>\n",
       "      <td>2</td>\n",
       "      <td>1079527384397856769</td>\n",
       "      <td>MalphasEternal</td>\n",
       "      <td>Ken also conveniently forgets that there are i...</td>\n",
       "      <td>2018-12-30 23:59:19+00:00</td>\n",
       "    </tr>\n",
       "    <tr>\n",
       "      <th>3</th>\n",
       "      <td>3</td>\n",
       "      <td>1079527360012189696</td>\n",
       "      <td>teambernie27001</td>\n",
       "      <td>Climate Change is a crisis requiring immediate...</td>\n",
       "      <td>2018-12-30 23:59:13+00:00</td>\n",
       "    </tr>\n",
       "    <tr>\n",
       "      <th>4</th>\n",
       "      <td>4</td>\n",
       "      <td>1079527333357330432</td>\n",
       "      <td>ArchitectsDCA</td>\n",
       "      <td>You know that #capandtrade is the best model f...</td>\n",
       "      <td>2018-12-30 23:59:07+00:00</td>\n",
       "    </tr>\n",
       "  </tbody>\n",
       "</table>\n",
       "</div>"
      ],
      "text/plain": [
       "   row_id             tweet_id         username  \\\n",
       "0       0  1079527504325406720      sherianbird   \n",
       "1       1  1079527402727006208     Grumpy_Paddy   \n",
       "2       2  1079527384397856769   MalphasEternal   \n",
       "3       3  1079527360012189696  teambernie27001   \n",
       "4       4  1079527333357330432    ArchitectsDCA   \n",
       "\n",
       "                                                text  \\\n",
       "0  Yeah right, #DumbassGovBrown Men fought in WWI...   \n",
       "1  One bee doesn't make climate change. Bees have...   \n",
       "2  Ken also conveniently forgets that there are i...   \n",
       "3  Climate Change is a crisis requiring immediate...   \n",
       "4  You know that #capandtrade is the best model f...   \n",
       "\n",
       "                   date_time  \n",
       "0  2018-12-30 23:59:48+00:00  \n",
       "1  2018-12-30 23:59:24+00:00  \n",
       "2  2018-12-30 23:59:19+00:00  \n",
       "3  2018-12-30 23:59:13+00:00  \n",
       "4  2018-12-30 23:59:07+00:00  "
      ]
     },
     "execution_count": 5,
     "metadata": {},
     "output_type": "execute_result"
    }
   ],
   "source": [
    "tweets=original_tweets.rename(columns={\"Unnamed: 0\": \"row_id\", \"0\": \"tweet_id\",\"1\":\"username\", \"2\":\"text\",\"3\":\"date_time\"})\n",
    "tweets.head()"
   ]
  },
  {
   "cell_type": "markdown",
   "metadata": {},
   "source": [
    "The wrong datatype can keep code from working, so let's check that... and change date_time to an actual datetime format!"
   ]
  },
  {
   "cell_type": "code",
   "execution_count": 6,
   "metadata": {},
   "outputs": [
    {
     "data": {
      "text/plain": [
       "row_id        int64\n",
       "tweet_id      int64\n",
       "username     object\n",
       "text         object\n",
       "date_time    object\n",
       "dtype: object"
      ]
     },
     "execution_count": 6,
     "metadata": {},
     "output_type": "execute_result"
    }
   ],
   "source": [
    "tweets.dtypes"
   ]
  },
  {
   "cell_type": "code",
   "execution_count": 7,
   "metadata": {},
   "outputs": [
    {
     "data": {
      "text/plain": [
       "row_id                     int64\n",
       "tweet_id                   int64\n",
       "username                  object\n",
       "text                      object\n",
       "date_time    datetime64[ns, UTC]\n",
       "dtype: object"
      ]
     },
     "execution_count": 7,
     "metadata": {},
     "output_type": "execute_result"
    }
   ],
   "source": [
    "tweets['date_time']=pd.to_datetime(tweets['date_time'])\n",
    "tweets.dtypes"
   ]
  },
  {
   "cell_type": "code",
   "execution_count": 8,
   "metadata": {},
   "outputs": [
    {
     "data": {
      "text/html": [
       "<div>\n",
       "<style scoped>\n",
       "    .dataframe tbody tr th:only-of-type {\n",
       "        vertical-align: middle;\n",
       "    }\n",
       "\n",
       "    .dataframe tbody tr th {\n",
       "        vertical-align: top;\n",
       "    }\n",
       "\n",
       "    .dataframe thead th {\n",
       "        text-align: right;\n",
       "    }\n",
       "</style>\n",
       "<table border=\"1\" class=\"dataframe\">\n",
       "  <thead>\n",
       "    <tr style=\"text-align: right;\">\n",
       "      <th></th>\n",
       "      <th>row_id</th>\n",
       "      <th>tweet_id</th>\n",
       "      <th>username</th>\n",
       "      <th>text</th>\n",
       "      <th>date_time</th>\n",
       "    </tr>\n",
       "  </thead>\n",
       "  <tbody>\n",
       "    <tr>\n",
       "      <th>0</th>\n",
       "      <td>0</td>\n",
       "      <td>1079527504325406720</td>\n",
       "      <td>sherianbird</td>\n",
       "      <td>Yeah right, #DumbassGovBrown Men fought in WWI...</td>\n",
       "      <td>2018-12-30 23:59:48+00:00</td>\n",
       "    </tr>\n",
       "    <tr>\n",
       "      <th>1</th>\n",
       "      <td>1</td>\n",
       "      <td>1079527402727006208</td>\n",
       "      <td>Grumpy_Paddy</td>\n",
       "      <td>One bee doesn't make climate change. Bees have...</td>\n",
       "      <td>2018-12-30 23:59:24+00:00</td>\n",
       "    </tr>\n",
       "    <tr>\n",
       "      <th>2</th>\n",
       "      <td>2</td>\n",
       "      <td>1079527384397856769</td>\n",
       "      <td>MalphasEternal</td>\n",
       "      <td>Ken also conveniently forgets that there are i...</td>\n",
       "      <td>2018-12-30 23:59:19+00:00</td>\n",
       "    </tr>\n",
       "    <tr>\n",
       "      <th>3</th>\n",
       "      <td>3</td>\n",
       "      <td>1079527360012189696</td>\n",
       "      <td>teambernie27001</td>\n",
       "      <td>Climate Change is a crisis requiring immediate...</td>\n",
       "      <td>2018-12-30 23:59:13+00:00</td>\n",
       "    </tr>\n",
       "    <tr>\n",
       "      <th>4</th>\n",
       "      <td>4</td>\n",
       "      <td>1079527333357330432</td>\n",
       "      <td>ArchitectsDCA</td>\n",
       "      <td>You know that #capandtrade is the best model f...</td>\n",
       "      <td>2018-12-30 23:59:07+00:00</td>\n",
       "    </tr>\n",
       "  </tbody>\n",
       "</table>\n",
       "</div>"
      ],
      "text/plain": [
       "   row_id             tweet_id         username  \\\n",
       "0       0  1079527504325406720      sherianbird   \n",
       "1       1  1079527402727006208     Grumpy_Paddy   \n",
       "2       2  1079527384397856769   MalphasEternal   \n",
       "3       3  1079527360012189696  teambernie27001   \n",
       "4       4  1079527333357330432    ArchitectsDCA   \n",
       "\n",
       "                                                text                 date_time  \n",
       "0  Yeah right, #DumbassGovBrown Men fought in WWI... 2018-12-30 23:59:48+00:00  \n",
       "1  One bee doesn't make climate change. Bees have... 2018-12-30 23:59:24+00:00  \n",
       "2  Ken also conveniently forgets that there are i... 2018-12-30 23:59:19+00:00  \n",
       "3  Climate Change is a crisis requiring immediate... 2018-12-30 23:59:13+00:00  \n",
       "4  You know that #capandtrade is the best model f... 2018-12-30 23:59:07+00:00  "
      ]
     },
     "execution_count": 8,
     "metadata": {},
     "output_type": "execute_result"
    }
   ],
   "source": [
    "tweets.head()"
   ]
  },
  {
   "cell_type": "markdown",
   "metadata": {},
   "source": [
    "With the Pandas Dataframe, the index already gives us a row_id, so let's drop that and create a new copy of the table for our next steps. "
   ]
  },
  {
   "cell_type": "code",
   "execution_count": 9,
   "metadata": {},
   "outputs": [
    {
     "data": {
      "text/html": [
       "<div>\n",
       "<style scoped>\n",
       "    .dataframe tbody tr th:only-of-type {\n",
       "        vertical-align: middle;\n",
       "    }\n",
       "\n",
       "    .dataframe tbody tr th {\n",
       "        vertical-align: top;\n",
       "    }\n",
       "\n",
       "    .dataframe thead th {\n",
       "        text-align: right;\n",
       "    }\n",
       "</style>\n",
       "<table border=\"1\" class=\"dataframe\">\n",
       "  <thead>\n",
       "    <tr style=\"text-align: right;\">\n",
       "      <th></th>\n",
       "      <th>tweet_id</th>\n",
       "      <th>username</th>\n",
       "      <th>text</th>\n",
       "      <th>date_time</th>\n",
       "    </tr>\n",
       "  </thead>\n",
       "  <tbody>\n",
       "    <tr>\n",
       "      <th>0</th>\n",
       "      <td>1079527504325406720</td>\n",
       "      <td>sherianbird</td>\n",
       "      <td>Yeah right, #DumbassGovBrown Men fought in WWI...</td>\n",
       "      <td>2018-12-30 23:59:48+00:00</td>\n",
       "    </tr>\n",
       "    <tr>\n",
       "      <th>1</th>\n",
       "      <td>1079527402727006208</td>\n",
       "      <td>Grumpy_Paddy</td>\n",
       "      <td>One bee doesn't make climate change. Bees have...</td>\n",
       "      <td>2018-12-30 23:59:24+00:00</td>\n",
       "    </tr>\n",
       "    <tr>\n",
       "      <th>2</th>\n",
       "      <td>1079527384397856769</td>\n",
       "      <td>MalphasEternal</td>\n",
       "      <td>Ken also conveniently forgets that there are i...</td>\n",
       "      <td>2018-12-30 23:59:19+00:00</td>\n",
       "    </tr>\n",
       "    <tr>\n",
       "      <th>3</th>\n",
       "      <td>1079527360012189696</td>\n",
       "      <td>teambernie27001</td>\n",
       "      <td>Climate Change is a crisis requiring immediate...</td>\n",
       "      <td>2018-12-30 23:59:13+00:00</td>\n",
       "    </tr>\n",
       "    <tr>\n",
       "      <th>4</th>\n",
       "      <td>1079527333357330432</td>\n",
       "      <td>ArchitectsDCA</td>\n",
       "      <td>You know that #capandtrade is the best model f...</td>\n",
       "      <td>2018-12-30 23:59:07+00:00</td>\n",
       "    </tr>\n",
       "  </tbody>\n",
       "</table>\n",
       "</div>"
      ],
      "text/plain": [
       "              tweet_id         username  \\\n",
       "0  1079527504325406720      sherianbird   \n",
       "1  1079527402727006208     Grumpy_Paddy   \n",
       "2  1079527384397856769   MalphasEternal   \n",
       "3  1079527360012189696  teambernie27001   \n",
       "4  1079527333357330432    ArchitectsDCA   \n",
       "\n",
       "                                                text                 date_time  \n",
       "0  Yeah right, #DumbassGovBrown Men fought in WWI... 2018-12-30 23:59:48+00:00  \n",
       "1  One bee doesn't make climate change. Bees have... 2018-12-30 23:59:24+00:00  \n",
       "2  Ken also conveniently forgets that there are i... 2018-12-30 23:59:19+00:00  \n",
       "3  Climate Change is a crisis requiring immediate... 2018-12-30 23:59:13+00:00  \n",
       "4  You know that #capandtrade is the best model f... 2018-12-30 23:59:07+00:00  "
      ]
     },
     "execution_count": 9,
     "metadata": {},
     "output_type": "execute_result"
    }
   ],
   "source": [
    "tweets2=tweets.drop(columns=['row_id'])\n",
    "tweets2.head()"
   ]
  },
  {
   "cell_type": "markdown",
   "metadata": {},
   "source": [
    "Just how many tweets are we working with here? And are there any duplicates? Since there are, we will drop so as not to conflate any sentiment scores for a group later on."
   ]
  },
  {
   "cell_type": "code",
   "execution_count": 10,
   "metadata": {},
   "outputs": [
    {
     "data": {
      "text/plain": [
       "10902"
      ]
     },
     "execution_count": 10,
     "metadata": {},
     "output_type": "execute_result"
    }
   ],
   "source": [
    "tweets2['tweet_id'].count()"
   ]
  },
  {
   "cell_type": "code",
   "execution_count": 11,
   "metadata": {},
   "outputs": [
    {
     "data": {
      "text/plain": [
       "10877"
      ]
     },
     "execution_count": 11,
     "metadata": {},
     "output_type": "execute_result"
    }
   ],
   "source": [
    "tweets2['tweet_id'].nunique()"
   ]
  },
  {
   "cell_type": "code",
   "execution_count": 12,
   "metadata": {},
   "outputs": [],
   "source": [
    "tweets2.drop_duplicates(subset='tweet_id',keep='first',inplace=True)"
   ]
  },
  {
   "cell_type": "code",
   "execution_count": 13,
   "metadata": {},
   "outputs": [
    {
     "data": {
      "text/plain": [
       "10877"
      ]
     },
     "execution_count": 13,
     "metadata": {},
     "output_type": "execute_result"
    }
   ],
   "source": [
    "tweets2['tweet_id'].count()"
   ]
  },
  {
   "cell_type": "code",
   "execution_count": 14,
   "metadata": {},
   "outputs": [
    {
     "data": {
      "text/plain": [
       "10877"
      ]
     },
     "execution_count": 14,
     "metadata": {},
     "output_type": "execute_result"
    }
   ],
   "source": [
    "tweets2['tweet_id'].nunique()"
   ]
  },
  {
   "cell_type": "markdown",
   "metadata": {},
   "source": [
    "Not unexpectedly, some users tweets multiple times in our dataset. There is nothing wrong that, but it is good to know!"
   ]
  },
  {
   "cell_type": "code",
   "execution_count": 15,
   "metadata": {},
   "outputs": [
    {
     "data": {
      "text/plain": [
       "9529"
      ]
     },
     "execution_count": 15,
     "metadata": {},
     "output_type": "execute_result"
    }
   ],
   "source": [
    "tweets2['username'].nunique()"
   ]
  },
  {
   "cell_type": "markdown",
   "metadata": {},
   "source": [
    "Dates play an important part in the groups we want to define, so let's see how that looks in our data, and create some new fields to help us analyse by dates."
   ]
  },
  {
   "cell_type": "code",
   "execution_count": 16,
   "metadata": {},
   "outputs": [],
   "source": [
    "tweets2['month']=tweets2['date_time'].dt.month"
   ]
  },
  {
   "cell_type": "code",
   "execution_count": 17,
   "metadata": {},
   "outputs": [
    {
     "data": {
      "text/plain": [
       "month\n",
       "1     1036\n",
       "2      818\n",
       "3      914\n",
       "4      886\n",
       "5      912\n",
       "6      874\n",
       "7      896\n",
       "8      898\n",
       "9      880\n",
       "10     903\n",
       "11     888\n",
       "12     972\n",
       "Name: tweet_id, dtype: int64"
      ]
     },
     "execution_count": 17,
     "metadata": {},
     "output_type": "execute_result"
    }
   ],
   "source": [
    "tweets2.groupby('month')['tweet_id'].count()"
   ]
  },
  {
   "cell_type": "markdown",
   "metadata": {},
   "source": [
    "January is unexpectedly high given that there should be a roughly equal number of tweets for each day of 2019. Why is that?"
   ]
  },
  {
   "cell_type": "code",
   "execution_count": 18,
   "metadata": {},
   "outputs": [],
   "source": [
    "tweets2['day']=tweets2['date_time'].dt.day"
   ]
  },
  {
   "cell_type": "code",
   "execution_count": 19,
   "metadata": {},
   "outputs": [
    {
     "data": {
      "text/plain": [
       "day\n",
       "1     60\n",
       "2     59\n",
       "3     58\n",
       "4     59\n",
       "5     30\n",
       "6     30\n",
       "7     30\n",
       "8     29\n",
       "9     29\n",
       "10    30\n",
       "11    30\n",
       "12    30\n",
       "13    29\n",
       "14    29\n",
       "15    30\n",
       "16    30\n",
       "17    29\n",
       "18    30\n",
       "19    29\n",
       "20    30\n",
       "21    29\n",
       "22    30\n",
       "23    30\n",
       "24    30\n",
       "25    30\n",
       "26    29\n",
       "27    30\n",
       "28    28\n",
       "29    30\n",
       "30    30\n",
       "31    30\n",
       "Name: tweet_id, dtype: int64"
      ]
     },
     "execution_count": 19,
     "metadata": {},
     "output_type": "execute_result"
    }
   ],
   "source": [
    "tweets2[tweets2['month']==1].groupby('day')['tweet_id'].count()"
   ]
  },
  {
   "cell_type": "markdown",
   "metadata": {},
   "source": [
    "Picking a day and just taking a look at the data reveals that some 2020 data snuck in from our original data pull off Twitter. Since these aren't a part of our defined time period, we will create a new dataset that is truly only 2019."
   ]
  },
  {
   "cell_type": "code",
   "execution_count": 20,
   "metadata": {},
   "outputs": [
    {
     "data": {
      "text/html": [
       "<div>\n",
       "<style scoped>\n",
       "    .dataframe tbody tr th:only-of-type {\n",
       "        vertical-align: middle;\n",
       "    }\n",
       "\n",
       "    .dataframe tbody tr th {\n",
       "        vertical-align: top;\n",
       "    }\n",
       "\n",
       "    .dataframe thead th {\n",
       "        text-align: right;\n",
       "    }\n",
       "</style>\n",
       "<table border=\"1\" class=\"dataframe\">\n",
       "  <thead>\n",
       "    <tr style=\"text-align: right;\">\n",
       "      <th></th>\n",
       "      <th>tweet_id</th>\n",
       "      <th>username</th>\n",
       "      <th>text</th>\n",
       "      <th>date_time</th>\n",
       "      <th>month</th>\n",
       "      <th>day</th>\n",
       "    </tr>\n",
       "  </thead>\n",
       "  <tbody>\n",
       "    <tr>\n",
       "      <th>20</th>\n",
       "      <td>1080252273236664320</td>\n",
       "      <td>LaurenBolton3</td>\n",
       "      <td>That human beings make a significant impact on...</td>\n",
       "      <td>2019-01-01 23:59:46+00:00</td>\n",
       "      <td>1</td>\n",
       "      <td>1</td>\n",
       "    </tr>\n",
       "    <tr>\n",
       "      <th>21</th>\n",
       "      <td>1080252264915316743</td>\n",
       "      <td>jeffwhelpley</td>\n",
       "      <td>In the short term, no doubt that Trump and the...</td>\n",
       "      <td>2019-01-01 23:59:44+00:00</td>\n",
       "      <td>1</td>\n",
       "      <td>1</td>\n",
       "    </tr>\n",
       "    <tr>\n",
       "      <th>22</th>\n",
       "      <td>1080252242068951041</td>\n",
       "      <td>NathanWurtzel</td>\n",
       "      <td>OK, well judging by your response to 9/11, we'...</td>\n",
       "      <td>2019-01-01 23:59:39+00:00</td>\n",
       "      <td>1</td>\n",
       "      <td>1</td>\n",
       "    </tr>\n",
       "    <tr>\n",
       "      <th>23</th>\n",
       "      <td>1080252227632021504</td>\n",
       "      <td>GovtsTheProblem</td>\n",
       "      <td>Not as generous as taxpayers. Over $13 billion...</td>\n",
       "      <td>2019-01-01 23:59:35+00:00</td>\n",
       "      <td>1</td>\n",
       "      <td>1</td>\n",
       "    </tr>\n",
       "    <tr>\n",
       "      <th>24</th>\n",
       "      <td>1080252208803766272</td>\n",
       "      <td>iamlordyaya</td>\n",
       "      <td>Is Dave Rubin indirectly denying man-made clim...</td>\n",
       "      <td>2019-01-01 23:59:31+00:00</td>\n",
       "      <td>1</td>\n",
       "      <td>1</td>\n",
       "    </tr>\n",
       "    <tr>\n",
       "      <th>25</th>\n",
       "      <td>1080252208439091201</td>\n",
       "      <td>climatedynamics</td>\n",
       "      <td>Cleaning up steel is key to tackling climate c...</td>\n",
       "      <td>2019-01-01 23:59:31+00:00</td>\n",
       "      <td>1</td>\n",
       "      <td>1</td>\n",
       "    </tr>\n",
       "    <tr>\n",
       "      <th>26</th>\n",
       "      <td>1080252183831080963</td>\n",
       "      <td>duckman11791</td>\n",
       "      <td>If you deny climate change exists. You essenti...</td>\n",
       "      <td>2019-01-01 23:59:25+00:00</td>\n",
       "      <td>1</td>\n",
       "      <td>1</td>\n",
       "    </tr>\n",
       "    <tr>\n",
       "      <th>27</th>\n",
       "      <td>1080252167334887424</td>\n",
       "      <td>ryanmrichardson</td>\n",
       "      <td>I think they're attributing more left-wing ide...</td>\n",
       "      <td>2019-01-01 23:59:21+00:00</td>\n",
       "      <td>1</td>\n",
       "      <td>1</td>\n",
       "    </tr>\n",
       "    <tr>\n",
       "      <th>28</th>\n",
       "      <td>1080252147516743680</td>\n",
       "      <td>ExNinja95</td>\n",
       "      <td>Climate change is a Marxist hoax.</td>\n",
       "      <td>2019-01-01 23:59:16+00:00</td>\n",
       "      <td>1</td>\n",
       "      <td>1</td>\n",
       "    </tr>\n",
       "    <tr>\n",
       "      <th>29</th>\n",
       "      <td>1080252130252906497</td>\n",
       "      <td>Yvonne4NE</td>\n",
       "      <td>Reports released last week indicate that the L...</td>\n",
       "      <td>2019-01-01 23:59:12+00:00</td>\n",
       "      <td>1</td>\n",
       "      <td>1</td>\n",
       "    </tr>\n",
       "    <tr>\n",
       "      <th>370</th>\n",
       "      <td>1080251185066430464</td>\n",
       "      <td>AMprefersPM</td>\n",
       "      <td>Not unless he adopts policies that will provid...</td>\n",
       "      <td>2019-01-01 23:55:27+00:00</td>\n",
       "      <td>1</td>\n",
       "      <td>1</td>\n",
       "    </tr>\n",
       "    <tr>\n",
       "      <th>371</th>\n",
       "      <td>1080250262827253760</td>\n",
       "      <td>Ryan_LR</td>\n",
       "      <td>A small thing I'm going to try more is saying ...</td>\n",
       "      <td>2019-01-01 23:51:47+00:00</td>\n",
       "      <td>1</td>\n",
       "      <td>1</td>\n",
       "    </tr>\n",
       "    <tr>\n",
       "      <th>372</th>\n",
       "      <td>1080248227809488897</td>\n",
       "      <td>CascadiaCAN</td>\n",
       "      <td>“Thanks to #GreenNewDeal, Progressives Forced ...</td>\n",
       "      <td>2019-01-01 23:43:42+00:00</td>\n",
       "      <td>1</td>\n",
       "      <td>1</td>\n",
       "    </tr>\n",
       "    <tr>\n",
       "      <th>373</th>\n",
       "      <td>1080247600937353216</td>\n",
       "      <td>JTurner423</td>\n",
       "      <td>Climate Crisis Is “Existential Threat,” House ...</td>\n",
       "      <td>2019-01-01 23:41:12+00:00</td>\n",
       "      <td>1</td>\n",
       "      <td>1</td>\n",
       "    </tr>\n",
       "    <tr>\n",
       "      <th>374</th>\n",
       "      <td>1080246860906934273</td>\n",
       "      <td>JavierV_Sanchez</td>\n",
       "      <td>Alexandria Ocasio-Cortez: Pelosi's Climate Cri...</td>\n",
       "      <td>2019-01-01 23:38:16+00:00</td>\n",
       "      <td>1</td>\n",
       "      <td>1</td>\n",
       "    </tr>\n",
       "    <tr>\n",
       "      <th>375</th>\n",
       "      <td>1080246153734733824</td>\n",
       "      <td>LAProgressive</td>\n",
       "      <td>#RT @theintercept: The new House committee bei...</td>\n",
       "      <td>2019-01-01 23:35:27+00:00</td>\n",
       "      <td>1</td>\n",
       "      <td>1</td>\n",
       "    </tr>\n",
       "    <tr>\n",
       "      <th>376</th>\n",
       "      <td>1080244894936059909</td>\n",
       "      <td>GrahamRoth</td>\n",
       "      <td>The climate crisis is radical. It requires bol...</td>\n",
       "      <td>2019-01-01 23:30:27+00:00</td>\n",
       "      <td>1</td>\n",
       "      <td>1</td>\n",
       "    </tr>\n",
       "    <tr>\n",
       "      <th>377</th>\n",
       "      <td>1080244746604417024</td>\n",
       "      <td>DebbieGei</td>\n",
       "      <td>Huh? You are an environMENTAL disaster. You do...</td>\n",
       "      <td>2019-01-01 23:29:52+00:00</td>\n",
       "      <td>1</td>\n",
       "      <td>1</td>\n",
       "    </tr>\n",
       "    <tr>\n",
       "      <th>378</th>\n",
       "      <td>1080244633706192898</td>\n",
       "      <td>JavierV_Sanchez</td>\n",
       "      <td>Alexandria Ocasio-Cortez: Pelosi's Climate Cri...</td>\n",
       "      <td>2019-01-01 23:29:25+00:00</td>\n",
       "      <td>1</td>\n",
       "      <td>1</td>\n",
       "    </tr>\n",
       "    <tr>\n",
       "      <th>379</th>\n",
       "      <td>1080244489191604224</td>\n",
       "      <td>buddy_dek</td>\n",
       "      <td>Nancy Pelosi calls the climate crisis an \"exis...</td>\n",
       "      <td>2019-01-01 23:28:50+00:00</td>\n",
       "      <td>1</td>\n",
       "      <td>1</td>\n",
       "    </tr>\n",
       "    <tr>\n",
       "      <th>716</th>\n",
       "      <td>1080252227862749184</td>\n",
       "      <td>America01st</td>\n",
       "      <td>\"Global WARMING\" strikes again. . . . 😎</td>\n",
       "      <td>2019-01-01 23:59:35+00:00</td>\n",
       "      <td>1</td>\n",
       "      <td>1</td>\n",
       "    </tr>\n",
       "    <tr>\n",
       "      <th>717</th>\n",
       "      <td>1080252039857287170</td>\n",
       "      <td>MaxGraham</td>\n",
       "      <td>Are we still talking about a silver bullet for...</td>\n",
       "      <td>2019-01-01 23:58:51+00:00</td>\n",
       "      <td>1</td>\n",
       "      <td>1</td>\n",
       "    </tr>\n",
       "    <tr>\n",
       "      <th>718</th>\n",
       "      <td>1080252025684852736</td>\n",
       "      <td>PhilosopherSue</td>\n",
       "      <td>#GlobalWarming Harms Animals 🌎 In the Antarcti...</td>\n",
       "      <td>2019-01-01 23:58:47+00:00</td>\n",
       "      <td>1</td>\n",
       "      <td>1</td>\n",
       "    </tr>\n",
       "    <tr>\n",
       "      <th>719</th>\n",
       "      <td>1080251941333151745</td>\n",
       "      <td>PhilosopherSue</td>\n",
       "      <td>#GlobalWarming Harms Animals. 🌎 In the Arctic,...</td>\n",
       "      <td>2019-01-01 23:58:27+00:00</td>\n",
       "      <td>1</td>\n",
       "      <td>1</td>\n",
       "    </tr>\n",
       "    <tr>\n",
       "      <th>720</th>\n",
       "      <td>1080251882164183041</td>\n",
       "      <td>actual_chaos</td>\n",
       "      <td>Not the planet. The sun. The only way to stop ...</td>\n",
       "      <td>2019-01-01 23:58:13+00:00</td>\n",
       "      <td>1</td>\n",
       "      <td>1</td>\n",
       "    </tr>\n",
       "    <tr>\n",
       "      <th>721</th>\n",
       "      <td>1080251742363795456</td>\n",
       "      <td>DarrellArkas</td>\n",
       "      <td>Global warming...</td>\n",
       "      <td>2019-01-01 23:57:40+00:00</td>\n",
       "      <td>1</td>\n",
       "      <td>1</td>\n",
       "    </tr>\n",
       "    <tr>\n",
       "      <th>722</th>\n",
       "      <td>1080251237986111493</td>\n",
       "      <td>villavyx</td>\n",
       "      <td>#APES4 @LoraxPmhs v.villatoro cars emit carbon...</td>\n",
       "      <td>2019-01-01 23:55:39+00:00</td>\n",
       "      <td>1</td>\n",
       "      <td>1</td>\n",
       "    </tr>\n",
       "    <tr>\n",
       "      <th>723</th>\n",
       "      <td>1080251227424915459</td>\n",
       "      <td>pinangodan</td>\n",
       "      <td>Australian Senator exposes Man Made Global War...</td>\n",
       "      <td>2019-01-01 23:55:37+00:00</td>\n",
       "      <td>1</td>\n",
       "      <td>1</td>\n",
       "    </tr>\n",
       "    <tr>\n",
       "      <th>724</th>\n",
       "      <td>1080251159359692801</td>\n",
       "      <td>SergeantMajor05</td>\n",
       "      <td>In a special “Meet the Press” episode dedicate...</td>\n",
       "      <td>2019-01-01 23:55:21+00:00</td>\n",
       "      <td>1</td>\n",
       "      <td>1</td>\n",
       "    </tr>\n",
       "    <tr>\n",
       "      <th>725</th>\n",
       "      <td>1080251063620517889</td>\n",
       "      <td>grbernst</td>\n",
       "      <td>The best companies understand that sustainabil...</td>\n",
       "      <td>2019-01-01 23:54:58+00:00</td>\n",
       "      <td>1</td>\n",
       "      <td>1</td>\n",
       "    </tr>\n",
       "    <tr>\n",
       "      <th>10179</th>\n",
       "      <td>1212523897964285953</td>\n",
       "      <td>howard_gewirtz</td>\n",
       "      <td>I’m sure they’ll be delighted to see him. Will...</td>\n",
       "      <td>2020-01-01 23:59:59+00:00</td>\n",
       "      <td>1</td>\n",
       "      <td>1</td>\n",
       "    </tr>\n",
       "    <tr>\n",
       "      <th>10180</th>\n",
       "      <td>1212523891748327424</td>\n",
       "      <td>jono_nath</td>\n",
       "      <td>A bit of perspective. 100% of fires made worse...</td>\n",
       "      <td>2020-01-01 23:59:58+00:00</td>\n",
       "      <td>1</td>\n",
       "      <td>1</td>\n",
       "    </tr>\n",
       "    <tr>\n",
       "      <th>10181</th>\n",
       "      <td>1212523871028600832</td>\n",
       "      <td>IAM__Network</td>\n",
       "      <td>IAM Platform Curated Tweet: Year In Review: Fi...</td>\n",
       "      <td>2020-01-01 23:59:53+00:00</td>\n",
       "      <td>1</td>\n",
       "      <td>1</td>\n",
       "    </tr>\n",
       "    <tr>\n",
       "      <th>10182</th>\n",
       "      <td>1212523861247504389</td>\n",
       "      <td>wgbhnews</td>\n",
       "      <td>States are stepping up their efforts to curb c...</td>\n",
       "      <td>2020-01-01 23:59:50+00:00</td>\n",
       "      <td>1</td>\n",
       "      <td>1</td>\n",
       "    </tr>\n",
       "    <tr>\n",
       "      <th>10183</th>\n",
       "      <td>1212523859917717504</td>\n",
       "      <td>dontworry66</td>\n",
       "      <td>And any mention of Daniel Andrews going awol d...</td>\n",
       "      <td>2020-01-01 23:59:50+00:00</td>\n",
       "      <td>1</td>\n",
       "      <td>1</td>\n",
       "    </tr>\n",
       "    <tr>\n",
       "      <th>10184</th>\n",
       "      <td>1212523833015644161</td>\n",
       "      <td>manwithoutatan</td>\n",
       "      <td>So, if you were wondering why I keep yelling t...</td>\n",
       "      <td>2020-01-01 23:59:44+00:00</td>\n",
       "      <td>1</td>\n",
       "      <td>1</td>\n",
       "    </tr>\n",
       "    <tr>\n",
       "      <th>10185</th>\n",
       "      <td>1212523811020713984</td>\n",
       "      <td>manwithoutatan</td>\n",
       "      <td>The Australian government refuses to discuss t...</td>\n",
       "      <td>2020-01-01 23:59:38+00:00</td>\n",
       "      <td>1</td>\n",
       "      <td>1</td>\n",
       "    </tr>\n",
       "    <tr>\n",
       "      <th>10186</th>\n",
       "      <td>1212523800446693378</td>\n",
       "      <td>jocksjig</td>\n",
       "      <td>Australia, your country is burning – dangerous...</td>\n",
       "      <td>2020-01-01 23:59:36+00:00</td>\n",
       "      <td>1</td>\n",
       "      <td>1</td>\n",
       "    </tr>\n",
       "    <tr>\n",
       "      <th>10187</th>\n",
       "      <td>1212523796265091073</td>\n",
       "      <td>jbkenn</td>\n",
       "      <td>@Taraustralis There are 3 parts to a Fire &amp;amp...</td>\n",
       "      <td>2020-01-01 23:59:35+00:00</td>\n",
       "      <td>1</td>\n",
       "      <td>1</td>\n",
       "    </tr>\n",
       "    <tr>\n",
       "      <th>10188</th>\n",
       "      <td>1212523771707289601</td>\n",
       "      <td>iamsammaher</td>\n",
       "      <td>Australia's Angry Summer: This Is What Climate...</td>\n",
       "      <td>2020-01-01 23:59:29+00:00</td>\n",
       "      <td>1</td>\n",
       "      <td>1</td>\n",
       "    </tr>\n",
       "    <tr>\n",
       "      <th>10522</th>\n",
       "      <td>1212523807065477125</td>\n",
       "      <td>SemiSmartHuman2</td>\n",
       "      <td>You're also a climate crisis denier so your op...</td>\n",
       "      <td>2020-01-01 23:59:37+00:00</td>\n",
       "      <td>1</td>\n",
       "      <td>1</td>\n",
       "    </tr>\n",
       "    <tr>\n",
       "      <th>10523</th>\n",
       "      <td>1212523758566748160</td>\n",
       "      <td>dllundy1</td>\n",
       "      <td>So, Leah, do you know what would happen if the...</td>\n",
       "      <td>2020-01-01 23:59:26+00:00</td>\n",
       "      <td>1</td>\n",
       "      <td>1</td>\n",
       "    </tr>\n",
       "    <tr>\n",
       "      <th>10524</th>\n",
       "      <td>1212523426767876104</td>\n",
       "      <td>basementvegan</td>\n",
       "      <td>Did the world get better or worse in the 2010s...</td>\n",
       "      <td>2020-01-01 23:58:07+00:00</td>\n",
       "      <td>1</td>\n",
       "      <td>1</td>\n",
       "    </tr>\n",
       "    <tr>\n",
       "      <th>10525</th>\n",
       "      <td>1212522994628775936</td>\n",
       "      <td>Geoelte_Spinne</td>\n",
       "      <td>Give this thread a read, and weep at what we'v...</td>\n",
       "      <td>2020-01-01 23:56:24+00:00</td>\n",
       "      <td>1</td>\n",
       "      <td>1</td>\n",
       "    </tr>\n",
       "    <tr>\n",
       "      <th>10526</th>\n",
       "      <td>1212522948856184832</td>\n",
       "      <td>rodwilliams8</td>\n",
       "      <td>Stop the LNP/right propaganda and admit that c...</td>\n",
       "      <td>2020-01-01 23:56:13+00:00</td>\n",
       "      <td>1</td>\n",
       "      <td>1</td>\n",
       "    </tr>\n",
       "    <tr>\n",
       "      <th>10527</th>\n",
       "      <td>1212522910276935681</td>\n",
       "      <td>JimBair62221006</td>\n",
       "      <td>Pacific Northwest Forests Fit Trifecta for Cur...</td>\n",
       "      <td>2020-01-01 23:56:04+00:00</td>\n",
       "      <td>1</td>\n",
       "      <td>1</td>\n",
       "    </tr>\n",
       "    <tr>\n",
       "      <th>10528</th>\n",
       "      <td>1212522907001380864</td>\n",
       "      <td>MichaelPlatt85</td>\n",
       "      <td>ExxonMobil Wishes Australia A 'Fun' New Year A...</td>\n",
       "      <td>2020-01-01 23:56:03+00:00</td>\n",
       "      <td>1</td>\n",
       "      <td>1</td>\n",
       "    </tr>\n",
       "    <tr>\n",
       "      <th>10529</th>\n",
       "      <td>1212522862306742274</td>\n",
       "      <td>DebErupts</td>\n",
       "      <td>Australia, your country is burning – dangerous...</td>\n",
       "      <td>2020-01-01 23:55:52+00:00</td>\n",
       "      <td>1</td>\n",
       "      <td>1</td>\n",
       "    </tr>\n",
       "    <tr>\n",
       "      <th>10530</th>\n",
       "      <td>1212522706765275136</td>\n",
       "      <td>LaurishaCuba</td>\n",
       "      <td>RT En varios países del mundo etiquetas como #...</td>\n",
       "      <td>2020-01-01 23:55:15+00:00</td>\n",
       "      <td>1</td>\n",
       "      <td>1</td>\n",
       "    </tr>\n",
       "    <tr>\n",
       "      <th>10531</th>\n",
       "      <td>1212522584681500675</td>\n",
       "      <td>Jessie42292067</td>\n",
       "      <td>Distancing himself from PPC members is NOT a s...</td>\n",
       "      <td>2020-01-01 23:54:46+00:00</td>\n",
       "      <td>1</td>\n",
       "      <td>1</td>\n",
       "    </tr>\n",
       "    <tr>\n",
       "      <th>10863</th>\n",
       "      <td>1212523646935355392</td>\n",
       "      <td>Dfran1000David</td>\n",
       "      <td>Conservative girls and @rohll5 should not be b...</td>\n",
       "      <td>2020-01-01 23:58:59+00:00</td>\n",
       "      <td>1</td>\n",
       "      <td>1</td>\n",
       "    </tr>\n",
       "    <tr>\n",
       "      <th>10864</th>\n",
       "      <td>1212523633572118528</td>\n",
       "      <td>springytaee</td>\n",
       "      <td>i won’t turn 18 because global warming</td>\n",
       "      <td>2020-01-01 23:58:56+00:00</td>\n",
       "      <td>1</td>\n",
       "      <td>1</td>\n",
       "    </tr>\n",
       "    <tr>\n",
       "      <th>10865</th>\n",
       "      <td>1212523547106648064</td>\n",
       "      <td>M0rganp3rry</td>\n",
       "      <td>Or the world may end from global warming haha ...</td>\n",
       "      <td>2020-01-01 23:58:35+00:00</td>\n",
       "      <td>1</td>\n",
       "      <td>1</td>\n",
       "    </tr>\n",
       "    <tr>\n",
       "      <th>10866</th>\n",
       "      <td>1212523356047605760</td>\n",
       "      <td>HelenClarkNZ</td>\n",
       "      <td>Tragic to see what is happening to people, the...</td>\n",
       "      <td>2020-01-01 23:57:50+00:00</td>\n",
       "      <td>1</td>\n",
       "      <td>1</td>\n",
       "    </tr>\n",
       "    <tr>\n",
       "      <th>10867</th>\n",
       "      <td>1212523317883748353</td>\n",
       "      <td>Imsmithy991</td>\n",
       "      <td>For 40 years the unhappy and unhinged left has...</td>\n",
       "      <td>2020-01-01 23:57:41+00:00</td>\n",
       "      <td>1</td>\n",
       "      <td>1</td>\n",
       "    </tr>\n",
       "    <tr>\n",
       "      <th>10868</th>\n",
       "      <td>1212523295226118144</td>\n",
       "      <td>SOPETOES</td>\n",
       "      <td>Global warming isn’t real them fairies in Neve...</td>\n",
       "      <td>2020-01-01 23:57:35+00:00</td>\n",
       "      <td>1</td>\n",
       "      <td>1</td>\n",
       "    </tr>\n",
       "    <tr>\n",
       "      <th>10869</th>\n",
       "      <td>1212523210371141637</td>\n",
       "      <td>warmerdaze</td>\n",
       "      <td>More global warming.</td>\n",
       "      <td>2020-01-01 23:57:15+00:00</td>\n",
       "      <td>1</td>\n",
       "      <td>1</td>\n",
       "    </tr>\n",
       "    <tr>\n",
       "      <th>10870</th>\n",
       "      <td>1212523072009515008</td>\n",
       "      <td>Globalisation9</td>\n",
       "      <td>I have the technology for global warming, rene...</td>\n",
       "      <td>2020-01-01 23:56:42+00:00</td>\n",
       "      <td>1</td>\n",
       "      <td>1</td>\n",
       "    </tr>\n",
       "    <tr>\n",
       "      <th>10871</th>\n",
       "      <td>1212523024324251648</td>\n",
       "      <td>Foghorn23782542</td>\n",
       "      <td>Now this is how you welcome the new year in Ca...</td>\n",
       "      <td>2020-01-01 23:56:31+00:00</td>\n",
       "      <td>1</td>\n",
       "      <td>1</td>\n",
       "    </tr>\n",
       "    <tr>\n",
       "      <th>10872</th>\n",
       "      <td>1212522944104058880</td>\n",
       "      <td>wiseoldmrowl</td>\n",
       "      <td>Well it shows that he got at least somethings ...</td>\n",
       "      <td>2020-01-01 23:56:12+00:00</td>\n",
       "      <td>1</td>\n",
       "      <td>1</td>\n",
       "    </tr>\n",
       "  </tbody>\n",
       "</table>\n",
       "</div>"
      ],
      "text/plain": [
       "                  tweet_id         username  \\\n",
       "20     1080252273236664320    LaurenBolton3   \n",
       "21     1080252264915316743     jeffwhelpley   \n",
       "22     1080252242068951041    NathanWurtzel   \n",
       "23     1080252227632021504  GovtsTheProblem   \n",
       "24     1080252208803766272      iamlordyaya   \n",
       "25     1080252208439091201  climatedynamics   \n",
       "26     1080252183831080963     duckman11791   \n",
       "27     1080252167334887424  ryanmrichardson   \n",
       "28     1080252147516743680        ExNinja95   \n",
       "29     1080252130252906497        Yvonne4NE   \n",
       "370    1080251185066430464      AMprefersPM   \n",
       "371    1080250262827253760          Ryan_LR   \n",
       "372    1080248227809488897      CascadiaCAN   \n",
       "373    1080247600937353216       JTurner423   \n",
       "374    1080246860906934273  JavierV_Sanchez   \n",
       "375    1080246153734733824    LAProgressive   \n",
       "376    1080244894936059909       GrahamRoth   \n",
       "377    1080244746604417024        DebbieGei   \n",
       "378    1080244633706192898  JavierV_Sanchez   \n",
       "379    1080244489191604224        buddy_dek   \n",
       "716    1080252227862749184      America01st   \n",
       "717    1080252039857287170        MaxGraham   \n",
       "718    1080252025684852736   PhilosopherSue   \n",
       "719    1080251941333151745   PhilosopherSue   \n",
       "720    1080251882164183041     actual_chaos   \n",
       "721    1080251742363795456     DarrellArkas   \n",
       "722    1080251237986111493         villavyx   \n",
       "723    1080251227424915459       pinangodan   \n",
       "724    1080251159359692801  SergeantMajor05   \n",
       "725    1080251063620517889         grbernst   \n",
       "10179  1212523897964285953   howard_gewirtz   \n",
       "10180  1212523891748327424        jono_nath   \n",
       "10181  1212523871028600832     IAM__Network   \n",
       "10182  1212523861247504389         wgbhnews   \n",
       "10183  1212523859917717504      dontworry66   \n",
       "10184  1212523833015644161   manwithoutatan   \n",
       "10185  1212523811020713984   manwithoutatan   \n",
       "10186  1212523800446693378         jocksjig   \n",
       "10187  1212523796265091073           jbkenn   \n",
       "10188  1212523771707289601      iamsammaher   \n",
       "10522  1212523807065477125  SemiSmartHuman2   \n",
       "10523  1212523758566748160         dllundy1   \n",
       "10524  1212523426767876104    basementvegan   \n",
       "10525  1212522994628775936   Geoelte_Spinne   \n",
       "10526  1212522948856184832     rodwilliams8   \n",
       "10527  1212522910276935681  JimBair62221006   \n",
       "10528  1212522907001380864   MichaelPlatt85   \n",
       "10529  1212522862306742274        DebErupts   \n",
       "10530  1212522706765275136     LaurishaCuba   \n",
       "10531  1212522584681500675   Jessie42292067   \n",
       "10863  1212523646935355392   Dfran1000David   \n",
       "10864  1212523633572118528      springytaee   \n",
       "10865  1212523547106648064      M0rganp3rry   \n",
       "10866  1212523356047605760     HelenClarkNZ   \n",
       "10867  1212523317883748353      Imsmithy991   \n",
       "10868  1212523295226118144         SOPETOES   \n",
       "10869  1212523210371141637       warmerdaze   \n",
       "10870  1212523072009515008   Globalisation9   \n",
       "10871  1212523024324251648  Foghorn23782542   \n",
       "10872  1212522944104058880     wiseoldmrowl   \n",
       "\n",
       "                                                    text  \\\n",
       "20     That human beings make a significant impact on...   \n",
       "21     In the short term, no doubt that Trump and the...   \n",
       "22     OK, well judging by your response to 9/11, we'...   \n",
       "23     Not as generous as taxpayers. Over $13 billion...   \n",
       "24     Is Dave Rubin indirectly denying man-made clim...   \n",
       "25     Cleaning up steel is key to tackling climate c...   \n",
       "26     If you deny climate change exists. You essenti...   \n",
       "27     I think they're attributing more left-wing ide...   \n",
       "28                     Climate change is a Marxist hoax.   \n",
       "29     Reports released last week indicate that the L...   \n",
       "370    Not unless he adopts policies that will provid...   \n",
       "371    A small thing I'm going to try more is saying ...   \n",
       "372    “Thanks to #GreenNewDeal, Progressives Forced ...   \n",
       "373    Climate Crisis Is “Existential Threat,” House ...   \n",
       "374    Alexandria Ocasio-Cortez: Pelosi's Climate Cri...   \n",
       "375    #RT @theintercept: The new House committee bei...   \n",
       "376    The climate crisis is radical. It requires bol...   \n",
       "377    Huh? You are an environMENTAL disaster. You do...   \n",
       "378    Alexandria Ocasio-Cortez: Pelosi's Climate Cri...   \n",
       "379    Nancy Pelosi calls the climate crisis an \"exis...   \n",
       "716             \"Global WARMING\" strikes again. . . . 😎    \n",
       "717    Are we still talking about a silver bullet for...   \n",
       "718    #GlobalWarming Harms Animals 🌎 In the Antarcti...   \n",
       "719    #GlobalWarming Harms Animals. 🌎 In the Arctic,...   \n",
       "720    Not the planet. The sun. The only way to stop ...   \n",
       "721                                    Global warming...   \n",
       "722    #APES4 @LoraxPmhs v.villatoro cars emit carbon...   \n",
       "723    Australian Senator exposes Man Made Global War...   \n",
       "724    In a special “Meet the Press” episode dedicate...   \n",
       "725    The best companies understand that sustainabil...   \n",
       "10179  I’m sure they’ll be delighted to see him. Will...   \n",
       "10180  A bit of perspective. 100% of fires made worse...   \n",
       "10181  IAM Platform Curated Tweet: Year In Review: Fi...   \n",
       "10182  States are stepping up their efforts to curb c...   \n",
       "10183  And any mention of Daniel Andrews going awol d...   \n",
       "10184  So, if you were wondering why I keep yelling t...   \n",
       "10185  The Australian government refuses to discuss t...   \n",
       "10186  Australia, your country is burning – dangerous...   \n",
       "10187  @Taraustralis There are 3 parts to a Fire &amp...   \n",
       "10188  Australia's Angry Summer: This Is What Climate...   \n",
       "10522  You're also a climate crisis denier so your op...   \n",
       "10523  So, Leah, do you know what would happen if the...   \n",
       "10524  Did the world get better or worse in the 2010s...   \n",
       "10525  Give this thread a read, and weep at what we'v...   \n",
       "10526  Stop the LNP/right propaganda and admit that c...   \n",
       "10527  Pacific Northwest Forests Fit Trifecta for Cur...   \n",
       "10528  ExxonMobil Wishes Australia A 'Fun' New Year A...   \n",
       "10529  Australia, your country is burning – dangerous...   \n",
       "10530  RT En varios países del mundo etiquetas como #...   \n",
       "10531  Distancing himself from PPC members is NOT a s...   \n",
       "10863  Conservative girls and @rohll5 should not be b...   \n",
       "10864             i won’t turn 18 because global warming   \n",
       "10865  Or the world may end from global warming haha ...   \n",
       "10866  Tragic to see what is happening to people, the...   \n",
       "10867  For 40 years the unhappy and unhinged left has...   \n",
       "10868  Global warming isn’t real them fairies in Neve...   \n",
       "10869                               More global warming.   \n",
       "10870  I have the technology for global warming, rene...   \n",
       "10871  Now this is how you welcome the new year in Ca...   \n",
       "10872  Well it shows that he got at least somethings ...   \n",
       "\n",
       "                      date_time  month  day  \n",
       "20    2019-01-01 23:59:46+00:00      1    1  \n",
       "21    2019-01-01 23:59:44+00:00      1    1  \n",
       "22    2019-01-01 23:59:39+00:00      1    1  \n",
       "23    2019-01-01 23:59:35+00:00      1    1  \n",
       "24    2019-01-01 23:59:31+00:00      1    1  \n",
       "25    2019-01-01 23:59:31+00:00      1    1  \n",
       "26    2019-01-01 23:59:25+00:00      1    1  \n",
       "27    2019-01-01 23:59:21+00:00      1    1  \n",
       "28    2019-01-01 23:59:16+00:00      1    1  \n",
       "29    2019-01-01 23:59:12+00:00      1    1  \n",
       "370   2019-01-01 23:55:27+00:00      1    1  \n",
       "371   2019-01-01 23:51:47+00:00      1    1  \n",
       "372   2019-01-01 23:43:42+00:00      1    1  \n",
       "373   2019-01-01 23:41:12+00:00      1    1  \n",
       "374   2019-01-01 23:38:16+00:00      1    1  \n",
       "375   2019-01-01 23:35:27+00:00      1    1  \n",
       "376   2019-01-01 23:30:27+00:00      1    1  \n",
       "377   2019-01-01 23:29:52+00:00      1    1  \n",
       "378   2019-01-01 23:29:25+00:00      1    1  \n",
       "379   2019-01-01 23:28:50+00:00      1    1  \n",
       "716   2019-01-01 23:59:35+00:00      1    1  \n",
       "717   2019-01-01 23:58:51+00:00      1    1  \n",
       "718   2019-01-01 23:58:47+00:00      1    1  \n",
       "719   2019-01-01 23:58:27+00:00      1    1  \n",
       "720   2019-01-01 23:58:13+00:00      1    1  \n",
       "721   2019-01-01 23:57:40+00:00      1    1  \n",
       "722   2019-01-01 23:55:39+00:00      1    1  \n",
       "723   2019-01-01 23:55:37+00:00      1    1  \n",
       "724   2019-01-01 23:55:21+00:00      1    1  \n",
       "725   2019-01-01 23:54:58+00:00      1    1  \n",
       "10179 2020-01-01 23:59:59+00:00      1    1  \n",
       "10180 2020-01-01 23:59:58+00:00      1    1  \n",
       "10181 2020-01-01 23:59:53+00:00      1    1  \n",
       "10182 2020-01-01 23:59:50+00:00      1    1  \n",
       "10183 2020-01-01 23:59:50+00:00      1    1  \n",
       "10184 2020-01-01 23:59:44+00:00      1    1  \n",
       "10185 2020-01-01 23:59:38+00:00      1    1  \n",
       "10186 2020-01-01 23:59:36+00:00      1    1  \n",
       "10187 2020-01-01 23:59:35+00:00      1    1  \n",
       "10188 2020-01-01 23:59:29+00:00      1    1  \n",
       "10522 2020-01-01 23:59:37+00:00      1    1  \n",
       "10523 2020-01-01 23:59:26+00:00      1    1  \n",
       "10524 2020-01-01 23:58:07+00:00      1    1  \n",
       "10525 2020-01-01 23:56:24+00:00      1    1  \n",
       "10526 2020-01-01 23:56:13+00:00      1    1  \n",
       "10527 2020-01-01 23:56:04+00:00      1    1  \n",
       "10528 2020-01-01 23:56:03+00:00      1    1  \n",
       "10529 2020-01-01 23:55:52+00:00      1    1  \n",
       "10530 2020-01-01 23:55:15+00:00      1    1  \n",
       "10531 2020-01-01 23:54:46+00:00      1    1  \n",
       "10863 2020-01-01 23:58:59+00:00      1    1  \n",
       "10864 2020-01-01 23:58:56+00:00      1    1  \n",
       "10865 2020-01-01 23:58:35+00:00      1    1  \n",
       "10866 2020-01-01 23:57:50+00:00      1    1  \n",
       "10867 2020-01-01 23:57:41+00:00      1    1  \n",
       "10868 2020-01-01 23:57:35+00:00      1    1  \n",
       "10869 2020-01-01 23:57:15+00:00      1    1  \n",
       "10870 2020-01-01 23:56:42+00:00      1    1  \n",
       "10871 2020-01-01 23:56:31+00:00      1    1  \n",
       "10872 2020-01-01 23:56:12+00:00      1    1  "
      ]
     },
     "execution_count": 20,
     "metadata": {},
     "output_type": "execute_result"
    }
   ],
   "source": [
    "tweets2[(tweets2['day']==1) & (tweets2['month']==1)]"
   ]
  },
  {
   "cell_type": "code",
   "execution_count": 21,
   "metadata": {},
   "outputs": [],
   "source": [
    "tweets2['year']=tweets2['date_time'].dt.year"
   ]
  },
  {
   "cell_type": "code",
   "execution_count": 22,
   "metadata": {},
   "outputs": [],
   "source": [
    "tweets3=tweets2[tweets2['year']==2019]"
   ]
  },
  {
   "cell_type": "code",
   "execution_count": 23,
   "metadata": {},
   "outputs": [
    {
     "data": {
      "text/plain": [
       "month\n",
       "1     918\n",
       "2     818\n",
       "3     914\n",
       "4     886\n",
       "5     912\n",
       "6     874\n",
       "7     896\n",
       "8     898\n",
       "9     880\n",
       "10    903\n",
       "11    888\n",
       "12    912\n",
       "Name: tweet_id, dtype: int64"
      ]
     },
     "execution_count": 23,
     "metadata": {},
     "output_type": "execute_result"
    }
   ],
   "source": [
    "tweets3.groupby('month')['tweet_id'].count()"
   ]
  },
  {
   "cell_type": "markdown",
   "metadata": {},
   "source": [
    "Now we can start creating our groups. First by keywords, with and without spaces to account for any hashtags with the key phrases."
   ]
  },
  {
   "cell_type": "code",
   "execution_count": 24,
   "metadata": {},
   "outputs": [
    {
     "name": "stderr",
     "output_type": "stream",
     "text": [
      "C:\\Users\\jelin\\Anaconda3\\lib\\site-packages\\ipykernel_launcher.py:1: SettingWithCopyWarning: \n",
      "A value is trying to be set on a copy of a slice from a DataFrame.\n",
      "Try using .loc[row_indexer,col_indexer] = value instead\n",
      "\n",
      "See the caveats in the documentation: http://pandas.pydata.org/pandas-docs/stable/user_guide/indexing.html#returning-a-view-versus-a-copy\n",
      "  \"\"\"Entry point for launching an IPython kernel.\n"
     ]
    }
   ],
   "source": [
    "tweets3['change']=tweets3['text'].str.contains('climate change|climatechange')"
   ]
  },
  {
   "cell_type": "code",
   "execution_count": 25,
   "metadata": {},
   "outputs": [
    {
     "name": "stderr",
     "output_type": "stream",
     "text": [
      "C:\\Users\\jelin\\Anaconda3\\lib\\site-packages\\ipykernel_launcher.py:1: SettingWithCopyWarning: \n",
      "A value is trying to be set on a copy of a slice from a DataFrame.\n",
      "Try using .loc[row_indexer,col_indexer] = value instead\n",
      "\n",
      "See the caveats in the documentation: http://pandas.pydata.org/pandas-docs/stable/user_guide/indexing.html#returning-a-view-versus-a-copy\n",
      "  \"\"\"Entry point for launching an IPython kernel.\n"
     ]
    }
   ],
   "source": [
    "tweets3['crisis']=tweets3['text'].str.contains('climate crisis|climatecrisis')"
   ]
  },
  {
   "cell_type": "code",
   "execution_count": 26,
   "metadata": {},
   "outputs": [
    {
     "name": "stderr",
     "output_type": "stream",
     "text": [
      "C:\\Users\\jelin\\Anaconda3\\lib\\site-packages\\ipykernel_launcher.py:1: SettingWithCopyWarning: \n",
      "A value is trying to be set on a copy of a slice from a DataFrame.\n",
      "Try using .loc[row_indexer,col_indexer] = value instead\n",
      "\n",
      "See the caveats in the documentation: http://pandas.pydata.org/pandas-docs/stable/user_guide/indexing.html#returning-a-view-versus-a-copy\n",
      "  \"\"\"Entry point for launching an IPython kernel.\n"
     ]
    }
   ],
   "source": [
    "tweets3['gw']=tweets3['text'].str.contains('global warming|globalwarming')"
   ]
  },
  {
   "cell_type": "code",
   "execution_count": 27,
   "metadata": {},
   "outputs": [
    {
     "data": {
      "text/plain": [
       "change\n",
       "False    7659\n",
       "True     3035\n",
       "Name: tweet_id, dtype: int64"
      ]
     },
     "execution_count": 27,
     "metadata": {},
     "output_type": "execute_result"
    }
   ],
   "source": [
    "tweets3.groupby('change')['tweet_id'].count()"
   ]
  },
  {
   "cell_type": "code",
   "execution_count": 28,
   "metadata": {},
   "outputs": [
    {
     "data": {
      "text/plain": [
       "crisis\n",
       "False    8721\n",
       "True     1973\n",
       "Name: tweet_id, dtype: int64"
      ]
     },
     "execution_count": 28,
     "metadata": {},
     "output_type": "execute_result"
    }
   ],
   "source": [
    "tweets3.groupby('crisis')['tweet_id'].count()"
   ]
  },
  {
   "cell_type": "code",
   "execution_count": 29,
   "metadata": {},
   "outputs": [
    {
     "data": {
      "text/plain": [
       "gw\n",
       "False    8228\n",
       "True     2466\n",
       "Name: tweet_id, dtype: int64"
      ]
     },
     "execution_count": 29,
     "metadata": {},
     "output_type": "execute_result"
    }
   ],
   "source": [
    "tweets3.groupby('gw')['tweet_id'].count()"
   ]
  },
  {
   "cell_type": "markdown",
   "metadata": {},
   "source": [
    "Groups by data are important as well. With these we can see how key events through out the Australian Bushfire crisis, gathered from a variety of news sources, might have changed the tenor of tweets. "
   ]
  },
  {
   "cell_type": "code",
   "execution_count": 30,
   "metadata": {
    "scrolled": true
   },
   "outputs": [
    {
     "name": "stderr",
     "output_type": "stream",
     "text": [
      "C:\\Users\\jelin\\Anaconda3\\lib\\site-packages\\ipykernel_launcher.py:1: SettingWithCopyWarning: \n",
      "A value is trying to be set on a copy of a slice from a DataFrame.\n",
      "Try using .loc[row_indexer,col_indexer] = value instead\n",
      "\n",
      "See the caveats in the documentation: http://pandas.pydata.org/pandas-docs/stable/user_guide/indexing.html#returning-a-view-versus-a-copy\n",
      "  \"\"\"Entry point for launching an IPython kernel.\n"
     ]
    }
   ],
   "source": [
    "tweets3['date']=tweets3['date_time'].dt.strftime(\"%x\")"
   ]
  },
  {
   "cell_type": "code",
   "execution_count": 31,
   "metadata": {},
   "outputs": [
    {
     "name": "stderr",
     "output_type": "stream",
     "text": [
      "C:\\Users\\jelin\\Anaconda3\\lib\\site-packages\\pandas\\core\\indexing.py:376: SettingWithCopyWarning: \n",
      "A value is trying to be set on a copy of a slice from a DataFrame.\n",
      "Try using .loc[row_indexer,col_indexer] = value instead\n",
      "\n",
      "See the caveats in the documentation: http://pandas.pydata.org/pandas-docs/stable/user_guide/indexing.html#returning-a-view-versus-a-copy\n",
      "  self.obj[key] = _infer_fill_value(value)\n",
      "C:\\Users\\jelin\\Anaconda3\\lib\\site-packages\\pandas\\core\\indexing.py:494: SettingWithCopyWarning: \n",
      "A value is trying to be set on a copy of a slice from a DataFrame.\n",
      "Try using .loc[row_indexer,col_indexer] = value instead\n",
      "\n",
      "See the caveats in the documentation: http://pandas.pydata.org/pandas-docs/stable/user_guide/indexing.html#returning-a-view-versus-a-copy\n",
      "  self.obj[item] = s\n"
     ]
    }
   ],
   "source": [
    "#Hadden (2020)\n",
    "tweets3.loc[(tweets3['date'] <  '06/26/19'), 'date_group']='pre-season'  #before the 2019 bushfire season started\n",
    "tweets3.loc[(tweets3['date'] < '10/01/19') & (tweets3['date'] >= '06/26/19'), 'date_group'] = 'na_only' #offical start of N. Aus. province bushfire season\n",
    "tweets3.loc[(tweets3['date'] < '11/11/19') & (tweets3['date'] >= '10/01/19'), 'date_group'] = 'national_season' #official start of bushfire season national\n",
    "tweets3.loc[(tweets3['date'] < '12/18/19') & (tweets3['date'] >= '11/11/19'), 'date_group'] = 'SOE_start' #Start of declared national state of emergency\n",
    "tweets3.loc[(tweets3['date'] >= '12/18/19'), 'date_group'] = 'rly_hot' #Hottest day of the year"
   ]
  },
  {
   "cell_type": "code",
   "execution_count": 32,
   "metadata": {},
   "outputs": [
    {
     "data": {
      "text/plain": [
       "date_group\n",
       "SOE_start          1089\n",
       "na_only            2821\n",
       "national_season    1199\n",
       "pre-season         5175\n",
       "rly_hot             415\n",
       "Name: tweet_id, dtype: int64"
      ]
     },
     "execution_count": 32,
     "metadata": {},
     "output_type": "execute_result"
    }
   ],
   "source": [
    "tweets3.groupby('date_group')['tweet_id'].count()"
   ]
  },
  {
   "cell_type": "code",
   "execution_count": 33,
   "metadata": {},
   "outputs": [
    {
     "data": {
      "text/html": [
       "<div>\n",
       "<style scoped>\n",
       "    .dataframe tbody tr th:only-of-type {\n",
       "        vertical-align: middle;\n",
       "    }\n",
       "\n",
       "    .dataframe tbody tr th {\n",
       "        vertical-align: top;\n",
       "    }\n",
       "\n",
       "    .dataframe thead th {\n",
       "        text-align: right;\n",
       "    }\n",
       "</style>\n",
       "<table border=\"1\" class=\"dataframe\">\n",
       "  <thead>\n",
       "    <tr style=\"text-align: right;\">\n",
       "      <th></th>\n",
       "      <th>tweet_id</th>\n",
       "      <th>username</th>\n",
       "      <th>text</th>\n",
       "      <th>date_time</th>\n",
       "      <th>month</th>\n",
       "      <th>day</th>\n",
       "      <th>year</th>\n",
       "      <th>change</th>\n",
       "      <th>crisis</th>\n",
       "      <th>gw</th>\n",
       "      <th>date</th>\n",
       "      <th>date_group</th>\n",
       "    </tr>\n",
       "  </thead>\n",
       "  <tbody>\n",
       "    <tr>\n",
       "      <th>20</th>\n",
       "      <td>1080252273236664320</td>\n",
       "      <td>LaurenBolton3</td>\n",
       "      <td>That human beings make a significant impact on...</td>\n",
       "      <td>2019-01-01 23:59:46+00:00</td>\n",
       "      <td>1</td>\n",
       "      <td>1</td>\n",
       "      <td>2019</td>\n",
       "      <td>True</td>\n",
       "      <td>False</td>\n",
       "      <td>False</td>\n",
       "      <td>01/01/19</td>\n",
       "      <td>pre-season</td>\n",
       "    </tr>\n",
       "    <tr>\n",
       "      <th>21</th>\n",
       "      <td>1080252264915316743</td>\n",
       "      <td>jeffwhelpley</td>\n",
       "      <td>In the short term, no doubt that Trump and the...</td>\n",
       "      <td>2019-01-01 23:59:44+00:00</td>\n",
       "      <td>1</td>\n",
       "      <td>1</td>\n",
       "      <td>2019</td>\n",
       "      <td>True</td>\n",
       "      <td>False</td>\n",
       "      <td>False</td>\n",
       "      <td>01/01/19</td>\n",
       "      <td>pre-season</td>\n",
       "    </tr>\n",
       "    <tr>\n",
       "      <th>22</th>\n",
       "      <td>1080252242068951041</td>\n",
       "      <td>NathanWurtzel</td>\n",
       "      <td>OK, well judging by your response to 9/11, we'...</td>\n",
       "      <td>2019-01-01 23:59:39+00:00</td>\n",
       "      <td>1</td>\n",
       "      <td>1</td>\n",
       "      <td>2019</td>\n",
       "      <td>True</td>\n",
       "      <td>False</td>\n",
       "      <td>False</td>\n",
       "      <td>01/01/19</td>\n",
       "      <td>pre-season</td>\n",
       "    </tr>\n",
       "    <tr>\n",
       "      <th>23</th>\n",
       "      <td>1080252227632021504</td>\n",
       "      <td>GovtsTheProblem</td>\n",
       "      <td>Not as generous as taxpayers. Over $13 billion...</td>\n",
       "      <td>2019-01-01 23:59:35+00:00</td>\n",
       "      <td>1</td>\n",
       "      <td>1</td>\n",
       "      <td>2019</td>\n",
       "      <td>True</td>\n",
       "      <td>False</td>\n",
       "      <td>False</td>\n",
       "      <td>01/01/19</td>\n",
       "      <td>pre-season</td>\n",
       "    </tr>\n",
       "    <tr>\n",
       "      <th>24</th>\n",
       "      <td>1080252208803766272</td>\n",
       "      <td>iamlordyaya</td>\n",
       "      <td>Is Dave Rubin indirectly denying man-made clim...</td>\n",
       "      <td>2019-01-01 23:59:31+00:00</td>\n",
       "      <td>1</td>\n",
       "      <td>1</td>\n",
       "      <td>2019</td>\n",
       "      <td>True</td>\n",
       "      <td>False</td>\n",
       "      <td>False</td>\n",
       "      <td>01/01/19</td>\n",
       "      <td>pre-season</td>\n",
       "    </tr>\n",
       "  </tbody>\n",
       "</table>\n",
       "</div>"
      ],
      "text/plain": [
       "               tweet_id         username  \\\n",
       "20  1080252273236664320    LaurenBolton3   \n",
       "21  1080252264915316743     jeffwhelpley   \n",
       "22  1080252242068951041    NathanWurtzel   \n",
       "23  1080252227632021504  GovtsTheProblem   \n",
       "24  1080252208803766272      iamlordyaya   \n",
       "\n",
       "                                                 text  \\\n",
       "20  That human beings make a significant impact on...   \n",
       "21  In the short term, no doubt that Trump and the...   \n",
       "22  OK, well judging by your response to 9/11, we'...   \n",
       "23  Not as generous as taxpayers. Over $13 billion...   \n",
       "24  Is Dave Rubin indirectly denying man-made clim...   \n",
       "\n",
       "                   date_time  month  day  year change crisis     gw      date  \\\n",
       "20 2019-01-01 23:59:46+00:00      1    1  2019   True  False  False  01/01/19   \n",
       "21 2019-01-01 23:59:44+00:00      1    1  2019   True  False  False  01/01/19   \n",
       "22 2019-01-01 23:59:39+00:00      1    1  2019   True  False  False  01/01/19   \n",
       "23 2019-01-01 23:59:35+00:00      1    1  2019   True  False  False  01/01/19   \n",
       "24 2019-01-01 23:59:31+00:00      1    1  2019   True  False  False  01/01/19   \n",
       "\n",
       "    date_group  \n",
       "20  pre-season  \n",
       "21  pre-season  \n",
       "22  pre-season  \n",
       "23  pre-season  \n",
       "24  pre-season  "
      ]
     },
     "execution_count": 33,
     "metadata": {},
     "output_type": "execute_result"
    }
   ],
   "source": [
    "tweets3.head()"
   ]
  },
  {
   "cell_type": "markdown",
   "metadata": {},
   "source": [
    "## Sentiment Analysis Preparation\n",
    "\n",
    "For the actual sentiment analysis, our tweet text needs to be cleaned up a bit to pull out unecessary characters. "
   ]
  },
  {
   "cell_type": "code",
   "execution_count": 34,
   "metadata": {},
   "outputs": [
    {
     "data": {
      "text/plain": [
       "20    That human beings make a significant impact on...\n",
       "21    In the short term, no doubt that Trump and the...\n",
       "22    OK, well judging by your response to 9/11, we'...\n",
       "23    Not as generous as taxpayers. Over $13 billion...\n",
       "24    Is Dave Rubin indirectly denying man-made clim...\n",
       "Name: text, dtype: object"
      ]
     },
     "execution_count": 34,
     "metadata": {},
     "output_type": "execute_result"
    }
   ],
   "source": [
    "tweets3['text'].head()"
   ]
  },
  {
   "cell_type": "code",
   "execution_count": 35,
   "metadata": {},
   "outputs": [
    {
     "name": "stderr",
     "output_type": "stream",
     "text": [
      "[nltk_data] Downloading package vader_lexicon to\n",
      "[nltk_data]     C:\\Users\\jelin\\AppData\\Roaming\\nltk_data...\n",
      "[nltk_data]   Package vader_lexicon is already up-to-date!\n"
     ]
    },
    {
     "data": {
      "text/plain": [
       "True"
      ]
     },
     "execution_count": 35,
     "metadata": {},
     "output_type": "execute_result"
    }
   ],
   "source": [
    "from bs4 import BeautifulSoup\n",
    "import re\n",
    "from nltk.tokenize import WordPunctTokenizer\n",
    "from nltk.sentiment.vader import SentimentIntensityAnalyzer\n",
    "\n",
    "import nltk\n",
    "nltk.download('vader_lexicon')"
   ]
  },
  {
   "cell_type": "markdown",
   "metadata": {},
   "source": [
    "Create the actual cleaning function with below commands:"
   ]
  },
  {
   "cell_type": "code",
   "execution_count": 36,
   "metadata": {},
   "outputs": [],
   "source": [
    "tok = WordPunctTokenizer()\n",
    "pat1 = r'@[A-Za-z0-9]+' #pulls out tags which should all be considered proper nouns/names\n",
    "pat2 = r'https?://[A-Za-z0-9./]+'#really just pulls out first part of web address, but ok cause lets us keep linked article titles\n",
    "combined_pat = r'|'.join((pat1, pat2))\n",
    "\n",
    "def tweet_cleaner(text):\n",
    "    soup = BeautifulSoup(text, 'lxml') #convert some accidental xml into readable characters\n",
    "    souped = soup.get_text()\n",
    "    stripped = re.sub(combined_pat, '', souped) #pull out tags and webaddresses\n",
    "    try:\n",
    "        clean = stripped.decode(\"utf-8-sig\").replace(u\"\\ufffd\", \"?\") #clean up some utf-8 that snuck in\n",
    "    except:\n",
    "        clean = stripped\n",
    "    \n",
    "    # During the letters_only process two lines above, it has created unnecessay white spaces,\n",
    "    # I will tokenize and join together to remove unneccessary white spaces\n",
    "    words = tok.tokenize(clean)\n",
    "    return (\" \".join(words)).strip()\n",
    "\n",
    "#Kim (2018)"
   ]
  },
  {
   "cell_type": "markdown",
   "metadata": {},
   "source": [
    "Create clean version of tweets with below loop and then append to the existing dataframe:"
   ]
  },
  {
   "cell_type": "code",
   "execution_count": 37,
   "metadata": {},
   "outputs": [],
   "source": [
    "text=[]\n",
    "for t in tweets3['text']:\n",
    "    text.append(tweet_cleaner(str(t)))"
   ]
  },
  {
   "cell_type": "code",
   "execution_count": 38,
   "metadata": {},
   "outputs": [
    {
     "name": "stderr",
     "output_type": "stream",
     "text": [
      "C:\\Users\\jelin\\Anaconda3\\lib\\site-packages\\ipykernel_launcher.py:1: SettingWithCopyWarning: \n",
      "A value is trying to be set on a copy of a slice from a DataFrame.\n",
      "Try using .loc[row_indexer,col_indexer] = value instead\n",
      "\n",
      "See the caveats in the documentation: http://pandas.pydata.org/pandas-docs/stable/user_guide/indexing.html#returning-a-view-versus-a-copy\n",
      "  \"\"\"Entry point for launching an IPython kernel.\n"
     ]
    }
   ],
   "source": [
    "tweets3['clean_text']=text"
   ]
  },
  {
   "cell_type": "code",
   "execution_count": 39,
   "metadata": {
    "scrolled": true
   },
   "outputs": [
    {
     "data": {
      "text/html": [
       "<div>\n",
       "<style scoped>\n",
       "    .dataframe tbody tr th:only-of-type {\n",
       "        vertical-align: middle;\n",
       "    }\n",
       "\n",
       "    .dataframe tbody tr th {\n",
       "        vertical-align: top;\n",
       "    }\n",
       "\n",
       "    .dataframe thead th {\n",
       "        text-align: right;\n",
       "    }\n",
       "</style>\n",
       "<table border=\"1\" class=\"dataframe\">\n",
       "  <thead>\n",
       "    <tr style=\"text-align: right;\">\n",
       "      <th></th>\n",
       "      <th>tweet_id</th>\n",
       "      <th>username</th>\n",
       "      <th>text</th>\n",
       "      <th>date_time</th>\n",
       "      <th>month</th>\n",
       "      <th>day</th>\n",
       "      <th>year</th>\n",
       "      <th>change</th>\n",
       "      <th>crisis</th>\n",
       "      <th>gw</th>\n",
       "      <th>date</th>\n",
       "      <th>date_group</th>\n",
       "      <th>clean_text</th>\n",
       "    </tr>\n",
       "  </thead>\n",
       "  <tbody>\n",
       "    <tr>\n",
       "      <th>20</th>\n",
       "      <td>1080252273236664320</td>\n",
       "      <td>LaurenBolton3</td>\n",
       "      <td>That human beings make a significant impact on...</td>\n",
       "      <td>2019-01-01 23:59:46+00:00</td>\n",
       "      <td>1</td>\n",
       "      <td>1</td>\n",
       "      <td>2019</td>\n",
       "      <td>True</td>\n",
       "      <td>False</td>\n",
       "      <td>False</td>\n",
       "      <td>01/01/19</td>\n",
       "      <td>pre-season</td>\n",
       "      <td>That human beings make a significant impact on...</td>\n",
       "    </tr>\n",
       "    <tr>\n",
       "      <th>21</th>\n",
       "      <td>1080252264915316743</td>\n",
       "      <td>jeffwhelpley</td>\n",
       "      <td>In the short term, no doubt that Trump and the...</td>\n",
       "      <td>2019-01-01 23:59:44+00:00</td>\n",
       "      <td>1</td>\n",
       "      <td>1</td>\n",
       "      <td>2019</td>\n",
       "      <td>True</td>\n",
       "      <td>False</td>\n",
       "      <td>False</td>\n",
       "      <td>01/01/19</td>\n",
       "      <td>pre-season</td>\n",
       "      <td>In the short term , no doubt that Trump and th...</td>\n",
       "    </tr>\n",
       "    <tr>\n",
       "      <th>22</th>\n",
       "      <td>1080252242068951041</td>\n",
       "      <td>NathanWurtzel</td>\n",
       "      <td>OK, well judging by your response to 9/11, we'...</td>\n",
       "      <td>2019-01-01 23:59:39+00:00</td>\n",
       "      <td>1</td>\n",
       "      <td>1</td>\n",
       "      <td>2019</td>\n",
       "      <td>True</td>\n",
       "      <td>False</td>\n",
       "      <td>False</td>\n",
       "      <td>01/01/19</td>\n",
       "      <td>pre-season</td>\n",
       "      <td>OK , well judging by your response to 9 / 11 ,...</td>\n",
       "    </tr>\n",
       "    <tr>\n",
       "      <th>23</th>\n",
       "      <td>1080252227632021504</td>\n",
       "      <td>GovtsTheProblem</td>\n",
       "      <td>Not as generous as taxpayers. Over $13 billion...</td>\n",
       "      <td>2019-01-01 23:59:35+00:00</td>\n",
       "      <td>1</td>\n",
       "      <td>1</td>\n",
       "      <td>2019</td>\n",
       "      <td>True</td>\n",
       "      <td>False</td>\n",
       "      <td>False</td>\n",
       "      <td>01/01/19</td>\n",
       "      <td>pre-season</td>\n",
       "      <td>Not as generous as taxpayers . Over $ 13 billi...</td>\n",
       "    </tr>\n",
       "    <tr>\n",
       "      <th>24</th>\n",
       "      <td>1080252208803766272</td>\n",
       "      <td>iamlordyaya</td>\n",
       "      <td>Is Dave Rubin indirectly denying man-made clim...</td>\n",
       "      <td>2019-01-01 23:59:31+00:00</td>\n",
       "      <td>1</td>\n",
       "      <td>1</td>\n",
       "      <td>2019</td>\n",
       "      <td>True</td>\n",
       "      <td>False</td>\n",
       "      <td>False</td>\n",
       "      <td>01/01/19</td>\n",
       "      <td>pre-season</td>\n",
       "      <td>Is Dave Rubin indirectly denying man - made cl...</td>\n",
       "    </tr>\n",
       "  </tbody>\n",
       "</table>\n",
       "</div>"
      ],
      "text/plain": [
       "               tweet_id         username  \\\n",
       "20  1080252273236664320    LaurenBolton3   \n",
       "21  1080252264915316743     jeffwhelpley   \n",
       "22  1080252242068951041    NathanWurtzel   \n",
       "23  1080252227632021504  GovtsTheProblem   \n",
       "24  1080252208803766272      iamlordyaya   \n",
       "\n",
       "                                                 text  \\\n",
       "20  That human beings make a significant impact on...   \n",
       "21  In the short term, no doubt that Trump and the...   \n",
       "22  OK, well judging by your response to 9/11, we'...   \n",
       "23  Not as generous as taxpayers. Over $13 billion...   \n",
       "24  Is Dave Rubin indirectly denying man-made clim...   \n",
       "\n",
       "                   date_time  month  day  year change crisis     gw      date  \\\n",
       "20 2019-01-01 23:59:46+00:00      1    1  2019   True  False  False  01/01/19   \n",
       "21 2019-01-01 23:59:44+00:00      1    1  2019   True  False  False  01/01/19   \n",
       "22 2019-01-01 23:59:39+00:00      1    1  2019   True  False  False  01/01/19   \n",
       "23 2019-01-01 23:59:35+00:00      1    1  2019   True  False  False  01/01/19   \n",
       "24 2019-01-01 23:59:31+00:00      1    1  2019   True  False  False  01/01/19   \n",
       "\n",
       "    date_group                                         clean_text  \n",
       "20  pre-season  That human beings make a significant impact on...  \n",
       "21  pre-season  In the short term , no doubt that Trump and th...  \n",
       "22  pre-season  OK , well judging by your response to 9 / 11 ,...  \n",
       "23  pre-season  Not as generous as taxpayers . Over $ 13 billi...  \n",
       "24  pre-season  Is Dave Rubin indirectly denying man - made cl...  "
      ]
     },
     "execution_count": 39,
     "metadata": {},
     "output_type": "execute_result"
    }
   ],
   "source": [
    "tweets3.head()"
   ]
  },
  {
   "cell_type": "markdown",
   "metadata": {},
   "source": [
    "To end our EDA and sentiment prep, let's save a copy of the current dataframe for reference."
   ]
  },
  {
   "cell_type": "code",
   "execution_count": 40,
   "metadata": {},
   "outputs": [],
   "source": [
    "tweets3.to_csv('D:/Practicum1/tweets3.csv')"
   ]
  },
  {
   "cell_type": "markdown",
   "metadata": {},
   "source": [
    "## Run Sentiment Analysis\n",
    "\n",
    "Now that EDA and cleansing is complete, let's get some sentiment scores! We will use the NLTK Vader package, which is specifically designed for sentiment analysis of social media, and actually takes into account the way capitalization, punctuation, and emojis are used with language to provide a more accurate score of the overall sentiment than traditional sentiment analysis (Pandey, 2018). While many other sentiment analysis packages require tokenization of the text, cleaning of cases, converting to root words, and so on, this nifty little package does a lot of that for you!"
   ]
  },
  {
   "cell_type": "markdown",
   "metadata": {},
   "source": [
    "A simple loop is all it takes to get sentiment scores that include the overall score, and broken out scores for positivity, negativity, and neutrality. "
   ]
  },
  {
   "cell_type": "code",
   "execution_count": 41,
   "metadata": {},
   "outputs": [],
   "source": [
    "sid = SentimentIntensityAnalyzer()\n",
    "\n",
    "sentiment=pd.DataFrame(columns=[])\n",
    "\n",
    "\n",
    "for t in tweets3['clean_text']: \n",
    "    ss=sid.polarity_scores(t)\n",
    "    sentiment=sentiment.append(ss,ignore_index=True)\n",
    "    \n",
    "#Goodger (2013), Hutto (2020), and Pandey (2018)"
   ]
  },
  {
   "cell_type": "code",
   "execution_count": 42,
   "metadata": {},
   "outputs": [
    {
     "data": {
      "text/html": [
       "<div>\n",
       "<style scoped>\n",
       "    .dataframe tbody tr th:only-of-type {\n",
       "        vertical-align: middle;\n",
       "    }\n",
       "\n",
       "    .dataframe tbody tr th {\n",
       "        vertical-align: top;\n",
       "    }\n",
       "\n",
       "    .dataframe thead th {\n",
       "        text-align: right;\n",
       "    }\n",
       "</style>\n",
       "<table border=\"1\" class=\"dataframe\">\n",
       "  <thead>\n",
       "    <tr style=\"text-align: right;\">\n",
       "      <th></th>\n",
       "      <th>compound</th>\n",
       "      <th>neg</th>\n",
       "      <th>neu</th>\n",
       "      <th>pos</th>\n",
       "    </tr>\n",
       "  </thead>\n",
       "  <tbody>\n",
       "    <tr>\n",
       "      <th>0</th>\n",
       "      <td>-0.0171</td>\n",
       "      <td>0.112</td>\n",
       "      <td>0.780</td>\n",
       "      <td>0.108</td>\n",
       "    </tr>\n",
       "    <tr>\n",
       "      <th>1</th>\n",
       "      <td>-0.6310</td>\n",
       "      <td>0.186</td>\n",
       "      <td>0.814</td>\n",
       "      <td>0.000</td>\n",
       "    </tr>\n",
       "    <tr>\n",
       "      <th>2</th>\n",
       "      <td>0.3962</td>\n",
       "      <td>0.122</td>\n",
       "      <td>0.690</td>\n",
       "      <td>0.188</td>\n",
       "    </tr>\n",
       "    <tr>\n",
       "      <th>3</th>\n",
       "      <td>0.1872</td>\n",
       "      <td>0.112</td>\n",
       "      <td>0.805</td>\n",
       "      <td>0.083</td>\n",
       "    </tr>\n",
       "    <tr>\n",
       "      <th>4</th>\n",
       "      <td>-0.3400</td>\n",
       "      <td>0.231</td>\n",
       "      <td>0.769</td>\n",
       "      <td>0.000</td>\n",
       "    </tr>\n",
       "    <tr>\n",
       "      <th>...</th>\n",
       "      <td>...</td>\n",
       "      <td>...</td>\n",
       "      <td>...</td>\n",
       "      <td>...</td>\n",
       "    </tr>\n",
       "    <tr>\n",
       "      <th>10694</th>\n",
       "      <td>0.2500</td>\n",
       "      <td>0.122</td>\n",
       "      <td>0.640</td>\n",
       "      <td>0.238</td>\n",
       "    </tr>\n",
       "    <tr>\n",
       "      <th>10695</th>\n",
       "      <td>-0.4019</td>\n",
       "      <td>0.110</td>\n",
       "      <td>0.836</td>\n",
       "      <td>0.054</td>\n",
       "    </tr>\n",
       "    <tr>\n",
       "      <th>10696</th>\n",
       "      <td>0.5859</td>\n",
       "      <td>0.000</td>\n",
       "      <td>0.798</td>\n",
       "      <td>0.202</td>\n",
       "    </tr>\n",
       "    <tr>\n",
       "      <th>10697</th>\n",
       "      <td>-0.5118</td>\n",
       "      <td>0.245</td>\n",
       "      <td>0.553</td>\n",
       "      <td>0.202</td>\n",
       "    </tr>\n",
       "    <tr>\n",
       "      <th>10698</th>\n",
       "      <td>-0.8143</td>\n",
       "      <td>0.162</td>\n",
       "      <td>0.809</td>\n",
       "      <td>0.029</td>\n",
       "    </tr>\n",
       "  </tbody>\n",
       "</table>\n",
       "<p>10699 rows × 4 columns</p>\n",
       "</div>"
      ],
      "text/plain": [
       "       compound    neg    neu    pos\n",
       "0       -0.0171  0.112  0.780  0.108\n",
       "1       -0.6310  0.186  0.814  0.000\n",
       "2        0.3962  0.122  0.690  0.188\n",
       "3        0.1872  0.112  0.805  0.083\n",
       "4       -0.3400  0.231  0.769  0.000\n",
       "...         ...    ...    ...    ...\n",
       "10694    0.2500  0.122  0.640  0.238\n",
       "10695   -0.4019  0.110  0.836  0.054\n",
       "10696    0.5859  0.000  0.798  0.202\n",
       "10697   -0.5118  0.245  0.553  0.202\n",
       "10698   -0.8143  0.162  0.809  0.029\n",
       "\n",
       "[10699 rows x 4 columns]"
      ]
     },
     "execution_count": 42,
     "metadata": {},
     "output_type": "execute_result"
    }
   ],
   "source": [
    "sentiment"
   ]
  },
  {
   "cell_type": "code",
   "execution_count": 43,
   "metadata": {},
   "outputs": [
    {
     "name": "stderr",
     "output_type": "stream",
     "text": [
      "C:\\Users\\jelin\\Anaconda3\\lib\\site-packages\\ipykernel_launcher.py:1: SettingWithCopyWarning: \n",
      "A value is trying to be set on a copy of a slice from a DataFrame.\n",
      "Try using .loc[row_indexer,col_indexer] = value instead\n",
      "\n",
      "See the caveats in the documentation: http://pandas.pydata.org/pandas-docs/stable/user_guide/indexing.html#returning-a-view-versus-a-copy\n",
      "  \"\"\"Entry point for launching an IPython kernel.\n",
      "C:\\Users\\jelin\\Anaconda3\\lib\\site-packages\\ipykernel_launcher.py:2: SettingWithCopyWarning: \n",
      "A value is trying to be set on a copy of a slice from a DataFrame.\n",
      "Try using .loc[row_indexer,col_indexer] = value instead\n",
      "\n",
      "See the caveats in the documentation: http://pandas.pydata.org/pandas-docs/stable/user_guide/indexing.html#returning-a-view-versus-a-copy\n",
      "  \n",
      "C:\\Users\\jelin\\Anaconda3\\lib\\site-packages\\ipykernel_launcher.py:3: SettingWithCopyWarning: \n",
      "A value is trying to be set on a copy of a slice from a DataFrame.\n",
      "Try using .loc[row_indexer,col_indexer] = value instead\n",
      "\n",
      "See the caveats in the documentation: http://pandas.pydata.org/pandas-docs/stable/user_guide/indexing.html#returning-a-view-versus-a-copy\n",
      "  This is separate from the ipykernel package so we can avoid doing imports until\n",
      "C:\\Users\\jelin\\Anaconda3\\lib\\site-packages\\ipykernel_launcher.py:4: SettingWithCopyWarning: \n",
      "A value is trying to be set on a copy of a slice from a DataFrame.\n",
      "Try using .loc[row_indexer,col_indexer] = value instead\n",
      "\n",
      "See the caveats in the documentation: http://pandas.pydata.org/pandas-docs/stable/user_guide/indexing.html#returning-a-view-versus-a-copy\n",
      "  after removing the cwd from sys.path.\n"
     ]
    }
   ],
   "source": [
    "tweets3['compound']=sentiment['compound']\n",
    "tweets3['neg']=sentiment['neg']\n",
    "tweets3['neu']=sentiment['neu']\n",
    "tweets3['pos']=sentiment['pos']"
   ]
  },
  {
   "cell_type": "markdown",
   "metadata": {},
   "source": [
    "Here's our final table of data including group definitions and sentiment scores!"
   ]
  },
  {
   "cell_type": "code",
   "execution_count": 44,
   "metadata": {
    "scrolled": true
   },
   "outputs": [
    {
     "data": {
      "text/html": [
       "<div>\n",
       "<style scoped>\n",
       "    .dataframe tbody tr th:only-of-type {\n",
       "        vertical-align: middle;\n",
       "    }\n",
       "\n",
       "    .dataframe tbody tr th {\n",
       "        vertical-align: top;\n",
       "    }\n",
       "\n",
       "    .dataframe thead th {\n",
       "        text-align: right;\n",
       "    }\n",
       "</style>\n",
       "<table border=\"1\" class=\"dataframe\">\n",
       "  <thead>\n",
       "    <tr style=\"text-align: right;\">\n",
       "      <th></th>\n",
       "      <th>tweet_id</th>\n",
       "      <th>username</th>\n",
       "      <th>text</th>\n",
       "      <th>date_time</th>\n",
       "      <th>month</th>\n",
       "      <th>day</th>\n",
       "      <th>year</th>\n",
       "      <th>change</th>\n",
       "      <th>crisis</th>\n",
       "      <th>gw</th>\n",
       "      <th>date</th>\n",
       "      <th>date_group</th>\n",
       "      <th>clean_text</th>\n",
       "      <th>compound</th>\n",
       "      <th>neg</th>\n",
       "      <th>neu</th>\n",
       "      <th>pos</th>\n",
       "    </tr>\n",
       "  </thead>\n",
       "  <tbody>\n",
       "    <tr>\n",
       "      <th>20</th>\n",
       "      <td>1080252273236664320</td>\n",
       "      <td>LaurenBolton3</td>\n",
       "      <td>That human beings make a significant impact on...</td>\n",
       "      <td>2019-01-01 23:59:46+00:00</td>\n",
       "      <td>1</td>\n",
       "      <td>1</td>\n",
       "      <td>2019</td>\n",
       "      <td>True</td>\n",
       "      <td>False</td>\n",
       "      <td>False</td>\n",
       "      <td>01/01/19</td>\n",
       "      <td>pre-season</td>\n",
       "      <td>That human beings make a significant impact on...</td>\n",
       "      <td>0.4854</td>\n",
       "      <td>0.000</td>\n",
       "      <td>0.875</td>\n",
       "      <td>0.125</td>\n",
       "    </tr>\n",
       "    <tr>\n",
       "      <th>21</th>\n",
       "      <td>1080252264915316743</td>\n",
       "      <td>jeffwhelpley</td>\n",
       "      <td>In the short term, no doubt that Trump and the...</td>\n",
       "      <td>2019-01-01 23:59:44+00:00</td>\n",
       "      <td>1</td>\n",
       "      <td>1</td>\n",
       "      <td>2019</td>\n",
       "      <td>True</td>\n",
       "      <td>False</td>\n",
       "      <td>False</td>\n",
       "      <td>01/01/19</td>\n",
       "      <td>pre-season</td>\n",
       "      <td>In the short term , no doubt that Trump and th...</td>\n",
       "      <td>-0.1531</td>\n",
       "      <td>0.132</td>\n",
       "      <td>0.760</td>\n",
       "      <td>0.108</td>\n",
       "    </tr>\n",
       "    <tr>\n",
       "      <th>22</th>\n",
       "      <td>1080252242068951041</td>\n",
       "      <td>NathanWurtzel</td>\n",
       "      <td>OK, well judging by your response to 9/11, we'...</td>\n",
       "      <td>2019-01-01 23:59:39+00:00</td>\n",
       "      <td>1</td>\n",
       "      <td>1</td>\n",
       "      <td>2019</td>\n",
       "      <td>True</td>\n",
       "      <td>False</td>\n",
       "      <td>False</td>\n",
       "      <td>01/01/19</td>\n",
       "      <td>pre-season</td>\n",
       "      <td>OK , well judging by your response to 9 / 11 ,...</td>\n",
       "      <td>0.2960</td>\n",
       "      <td>0.000</td>\n",
       "      <td>0.909</td>\n",
       "      <td>0.091</td>\n",
       "    </tr>\n",
       "    <tr>\n",
       "      <th>23</th>\n",
       "      <td>1080252227632021504</td>\n",
       "      <td>GovtsTheProblem</td>\n",
       "      <td>Not as generous as taxpayers. Over $13 billion...</td>\n",
       "      <td>2019-01-01 23:59:35+00:00</td>\n",
       "      <td>1</td>\n",
       "      <td>1</td>\n",
       "      <td>2019</td>\n",
       "      <td>True</td>\n",
       "      <td>False</td>\n",
       "      <td>False</td>\n",
       "      <td>01/01/19</td>\n",
       "      <td>pre-season</td>\n",
       "      <td>Not as generous as taxpayers . Over $ 13 billi...</td>\n",
       "      <td>0.0000</td>\n",
       "      <td>0.000</td>\n",
       "      <td>1.000</td>\n",
       "      <td>0.000</td>\n",
       "    </tr>\n",
       "    <tr>\n",
       "      <th>24</th>\n",
       "      <td>1080252208803766272</td>\n",
       "      <td>iamlordyaya</td>\n",
       "      <td>Is Dave Rubin indirectly denying man-made clim...</td>\n",
       "      <td>2019-01-01 23:59:31+00:00</td>\n",
       "      <td>1</td>\n",
       "      <td>1</td>\n",
       "      <td>2019</td>\n",
       "      <td>True</td>\n",
       "      <td>False</td>\n",
       "      <td>False</td>\n",
       "      <td>01/01/19</td>\n",
       "      <td>pre-season</td>\n",
       "      <td>Is Dave Rubin indirectly denying man - made cl...</td>\n",
       "      <td>-0.2960</td>\n",
       "      <td>0.099</td>\n",
       "      <td>0.901</td>\n",
       "      <td>0.000</td>\n",
       "    </tr>\n",
       "  </tbody>\n",
       "</table>\n",
       "</div>"
      ],
      "text/plain": [
       "               tweet_id         username  \\\n",
       "20  1080252273236664320    LaurenBolton3   \n",
       "21  1080252264915316743     jeffwhelpley   \n",
       "22  1080252242068951041    NathanWurtzel   \n",
       "23  1080252227632021504  GovtsTheProblem   \n",
       "24  1080252208803766272      iamlordyaya   \n",
       "\n",
       "                                                 text  \\\n",
       "20  That human beings make a significant impact on...   \n",
       "21  In the short term, no doubt that Trump and the...   \n",
       "22  OK, well judging by your response to 9/11, we'...   \n",
       "23  Not as generous as taxpayers. Over $13 billion...   \n",
       "24  Is Dave Rubin indirectly denying man-made clim...   \n",
       "\n",
       "                   date_time  month  day  year change crisis     gw      date  \\\n",
       "20 2019-01-01 23:59:46+00:00      1    1  2019   True  False  False  01/01/19   \n",
       "21 2019-01-01 23:59:44+00:00      1    1  2019   True  False  False  01/01/19   \n",
       "22 2019-01-01 23:59:39+00:00      1    1  2019   True  False  False  01/01/19   \n",
       "23 2019-01-01 23:59:35+00:00      1    1  2019   True  False  False  01/01/19   \n",
       "24 2019-01-01 23:59:31+00:00      1    1  2019   True  False  False  01/01/19   \n",
       "\n",
       "    date_group                                         clean_text  compound  \\\n",
       "20  pre-season  That human beings make a significant impact on...    0.4854   \n",
       "21  pre-season  In the short term , no doubt that Trump and th...   -0.1531   \n",
       "22  pre-season  OK , well judging by your response to 9 / 11 ,...    0.2960   \n",
       "23  pre-season  Not as generous as taxpayers . Over $ 13 billi...    0.0000   \n",
       "24  pre-season  Is Dave Rubin indirectly denying man - made cl...   -0.2960   \n",
       "\n",
       "      neg    neu    pos  \n",
       "20  0.000  0.875  0.125  \n",
       "21  0.132  0.760  0.108  \n",
       "22  0.000  0.909  0.091  \n",
       "23  0.000  1.000  0.000  \n",
       "24  0.099  0.901  0.000  "
      ]
     },
     "execution_count": 44,
     "metadata": {},
     "output_type": "execute_result"
    }
   ],
   "source": [
    "tweets3.head()"
   ]
  },
  {
   "cell_type": "code",
   "execution_count": 45,
   "metadata": {},
   "outputs": [],
   "source": [
    "tweets3.to_csv('D:/Practicum1/tweets3SA.csv')"
   ]
  },
  {
   "cell_type": "markdown",
   "metadata": {},
   "source": [
    "## Compare the scores by groups"
   ]
  },
  {
   "cell_type": "code",
   "execution_count": 103,
   "metadata": {},
   "outputs": [],
   "source": [
    "import matplotlib\n",
    "import matplotlib.pyplot as plt\n",
    "from scipy.stats import boxcox \n",
    "import numpy"
   ]
  },
  {
   "cell_type": "markdown",
   "metadata": {},
   "source": [
    "### Complete Dataset"
   ]
  },
  {
   "cell_type": "markdown",
   "metadata": {},
   "source": [
    "Unfortunately as we can clearly see by the histogram, the data is not normalized as a whole. "
   ]
  },
  {
   "cell_type": "code",
   "execution_count": 91,
   "metadata": {},
   "outputs": [
    {
     "data": {
      "image/png": "[encoded data removed]",
      "text/plain": [
       "<Figure size 432x288 with 1 Axes>"
      ]
     },
     "metadata": {
      "needs_background": "light"
     },
     "output_type": "display_data"
    }
   ],
   "source": [
    "mn=round(numpy.mean(tweets3['compound']),3)\n",
    "\n",
    "plt.hist(tweets3['compound'], 10, facecolor='blue', alpha=0.5)\n",
    "plt.title('Histogram of All Tweets')\n",
    "plt.annotate('mean='+ str(mn), xy=(.5,1750))\n",
    "plt.show()"
   ]
  },
  {
   "cell_type": "markdown",
   "metadata": {},
   "source": [
    "### Group Histograms to Check for Normal Distribution"
   ]
  },
  {
   "cell_type": "markdown",
   "metadata": {},
   "source": [
    "Since we want to compare the datasets by group, we need to check if those have a normal distribution too. While a couple are close, most are not, and the data we use does not lend its self to a power transformation with the negative values."
   ]
  },
  {
   "cell_type": "markdown",
   "metadata": {},
   "source": [
    "First we need to create the separate datasets. For the key phrases:"
   ]
  },
  {
   "cell_type": "code",
   "execution_count": 48,
   "metadata": {},
   "outputs": [],
   "source": [
    "change=tweets3[tweets3['change']==True]\n",
    "crisis=tweets3[tweets3['crisis']==True]\n",
    "gw=tweets3[tweets3['gw']==True]"
   ]
  },
  {
   "cell_type": "markdown",
   "metadata": {},
   "source": [
    "And for the date groups:"
   ]
  },
  {
   "cell_type": "code",
   "execution_count": 49,
   "metadata": {},
   "outputs": [],
   "source": [
    "pre=tweets3[tweets3['date_group']=='pre-season']\n",
    "na_only=tweets3[tweets3['date_group']=='na_only']\n",
    "national=tweets3[tweets3['date_group']=='national_season']\n",
    "SOE=tweets3[tweets3['date_group']=='SOE_start']\n",
    "hot=tweets3[tweets3['date_group']=='rly_hot']"
   ]
  },
  {
   "cell_type": "markdown",
   "metadata": {},
   "source": [
    "Our Key Phrase distributions:"
   ]
  },
  {
   "cell_type": "code",
   "execution_count": 102,
   "metadata": {},
   "outputs": [
    {
     "data": {
      "image/png": "[encoded data removed]",
      "text/plain": [
       "<Figure size 432x288 with 1 Axes>"
      ]
     },
     "metadata": {
      "needs_background": "light"
     },
     "output_type": "display_data"
    }
   ],
   "source": [
    "mn=round(numpy.mean(change['compound']),3)\n",
    "\n",
    "plt.hist(change['compound'], 10, facecolor='blue', alpha=0.5)\n",
    "plt.title('Climate Change Tweets')\n",
    "plt.annotate('mean='+ str(mn), xy=(.5,600))\n",
    "plt.show()"
   ]
  },
  {
   "cell_type": "code",
   "execution_count": 90,
   "metadata": {
    "scrolled": true
   },
   "outputs": [
    {
     "data": {
      "image/png": "[encoded data removed]",
      "text/plain": [
       "<Figure size 432x288 with 1 Axes>"
      ]
     },
     "metadata": {
      "needs_background": "light"
     },
     "output_type": "display_data"
    }
   ],
   "source": [
    "mn=round(numpy.mean(crisis['compound']),3)\n",
    "\n",
    "plt.hist(crisis['compound'], 10, facecolor='cyan', alpha=0.5)\n",
    "plt.title('Climate Crisis Tweets')\n",
    "plt.annotate('mean='+ str(mn), xy=(.5,350))\n",
    "plt.show()"
   ]
  },
  {
   "cell_type": "code",
   "execution_count": 70,
   "metadata": {},
   "outputs": [
    {
     "data": {
      "image/png": "[encoded data removed]",
      "text/plain": [
       "<Figure size 432x288 with 1 Axes>"
      ]
     },
     "metadata": {
      "needs_background": "light"
     },
     "output_type": "display_data"
    }
   ],
   "source": [
    "mn=round(numpy.mean(gw['compound']),3)\n",
    "\n",
    "plt.hist(gw['compound'], 10, facecolor='green', alpha=0.5)\n",
    "plt.title('Global Warming Tweets')\n",
    "plt.annotate('mean='+ str(mn), xy=(.5,425))\n",
    "plt.show()"
   ]
  },
  {
   "cell_type": "markdown",
   "metadata": {},
   "source": [
    "Note this is the only group defined in this analysis that has a positive mean sentiment score. "
   ]
  },
  {
   "cell_type": "markdown",
   "metadata": {},
   "source": [
    "Our Date Group Distributions:"
   ]
  },
  {
   "cell_type": "code",
   "execution_count": 76,
   "metadata": {},
   "outputs": [
    {
     "data": {
      "image/png": "[encoded data removed]",
      "text/plain": [
       "<Figure size 432x288 with 1 Axes>"
      ]
     },
     "metadata": {
      "needs_background": "light"
     },
     "output_type": "display_data"
    }
   ],
   "source": [
    "mn=round(numpy.mean(pre['compound']),3)\n",
    "\n",
    "plt.hist(pre['compound'], 10, facecolor='mistyrose', alpha=0.5)\n",
    "plt.title('Bushfire Pre-Season Tweets')\n",
    "plt.annotate('mean='+ str(mn), xy=(.5,800))\n",
    "plt.show()"
   ]
  },
  {
   "cell_type": "code",
   "execution_count": 78,
   "metadata": {},
   "outputs": [
    {
     "data": {
      "image/png": "[encoded data removed]",
      "text/plain": [
       "<Figure size 432x288 with 1 Axes>"
      ]
     },
     "metadata": {
      "needs_background": "light"
     },
     "output_type": "display_data"
    }
   ],
   "source": [
    "mn=round(numpy.mean(na_only['compound']),3)\n",
    "\n",
    "plt.hist(na_only['compound'], 10, facecolor='lightcoral', alpha=0.5)\n",
    "plt.title('Start of North Australian Province Bushfire Season Tweets')\n",
    "plt.annotate('mean='+ str(mn), xy=(.5,500))\n",
    "plt.show()"
   ]
  },
  {
   "cell_type": "code",
   "execution_count": 82,
   "metadata": {},
   "outputs": [
    {
     "data": {
      "image/png": "[encoded data removed]",
      "text/plain": [
       "<Figure size 432x288 with 1 Axes>"
      ]
     },
     "metadata": {
      "needs_background": "light"
     },
     "output_type": "display_data"
    }
   ],
   "source": [
    "mn=round(numpy.mean(national['compound']),3)\n",
    "\n",
    "plt.hist(national['compound'], 10, facecolor='red', alpha=0.5)\n",
    "plt.title('Start of National Australian Bushfire Season Tweets')\n",
    "plt.annotate('mean='+ str(mn), xy=(.5,150))\n",
    "plt.show()"
   ]
  },
  {
   "cell_type": "code",
   "execution_count": 88,
   "metadata": {},
   "outputs": [
    {
     "data": {
      "image/png": "[encoded data removed]",
      "text/plain": [
       "<Figure size 432x288 with 1 Axes>"
      ]
     },
     "metadata": {
      "needs_background": "light"
     },
     "output_type": "display_data"
    }
   ],
   "source": [
    "mn=round(numpy.mean(SOE['compound']),3)\n",
    "\n",
    "plt.hist(SOE['compound'], 10, facecolor='indianred', alpha=0.5)\n",
    "plt.title('Post State of Emergency Declared Tweets')\n",
    "plt.annotate('mean='+ str(mn), xy=(.5,150))\n",
    "plt.show()"
   ]
  },
  {
   "cell_type": "code",
   "execution_count": 117,
   "metadata": {
    "scrolled": true
   },
   "outputs": [
    {
     "data": {
      "image/png": "[encoded data removed]",
      "text/plain": [
       "<Figure size 432x288 with 1 Axes>"
      ]
     },
     "metadata": {
      "needs_background": "light"
     },
     "output_type": "display_data"
    }
   ],
   "source": [
    "mn=round(numpy.mean(hot['compound']),3)\n",
    "\n",
    "plt.hist(hot['compound'], 10, facecolor='darkred', alpha=0.5)\n",
    "plt.title('Hottest Day of the Year and Beyond Tweets')\n",
    "plt.annotate('mean='+ str(mn), xy=(.5,50))\n",
    "plt.show()"
   ]
  },
  {
   "cell_type": "markdown",
   "metadata": {},
   "source": [
    "## Testing for Significant Differences"
   ]
  },
  {
   "cell_type": "markdown",
   "metadata": {},
   "source": [
    "Since this data is not normally distributed, we will need to use a non-parametric statistical significance test. Since the data is not paired, we will use the Mann-Whitney U test (Brownlee, 2018). "
   ]
  },
  {
   "cell_type": "code",
   "execution_count": 92,
   "metadata": {},
   "outputs": [],
   "source": [
    "from scipy.stats import mannwhitneyu"
   ]
  },
  {
   "cell_type": "markdown",
   "metadata": {},
   "source": [
    "Our key phrase groups, despite all referring to the same thing, are all significantly different from each other in sentiment. "
   ]
  },
  {
   "cell_type": "code",
   "execution_count": 98,
   "metadata": {},
   "outputs": [
    {
     "name": "stdout",
     "output_type": "stream",
     "text": [
      "Statistics=2623609.000, p=0.0000000000\n",
      "Different distribution (reject H0)\n"
     ]
    }
   ],
   "source": [
    "#Brownlee (2018)\n",
    "stat, p = mannwhitneyu(change['compound'], crisis['compound'])\n",
    "print('Statistics=%.3f, p=%.10f' % (stat, p))\n",
    "# interpret\n",
    "alpha = 0.05\n",
    "if p > alpha:\n",
    "\tprint('Same distribution (fail to reject H0)')\n",
    "else:\n",
    "\tprint('Different distribution (reject H0)')"
   ]
  },
  {
   "cell_type": "code",
   "execution_count": 99,
   "metadata": {},
   "outputs": [
    {
     "name": "stdout",
     "output_type": "stream",
     "text": [
      "Statistics=3066550.000, p=0.0000000000\n",
      "Different distribution (reject H0)\n"
     ]
    }
   ],
   "source": [
    "stat, p = mannwhitneyu(change['compound'], gw['compound'])\n",
    "print('Statistics=%.3f, p=%.10f' % (stat, p))\n",
    "# interpret\n",
    "alpha = 0.05\n",
    "if p > alpha:\n",
    "\tprint('Same distribution (fail to reject H0)')\n",
    "else:\n",
    "\tprint('Different distribution (reject H0)')"
   ]
  },
  {
   "cell_type": "code",
   "execution_count": 100,
   "metadata": {},
   "outputs": [
    {
     "name": "stdout",
     "output_type": "stream",
     "text": [
      "Statistics=1722320.500, p=0.0000000000\n",
      "Different distribution (reject H0)\n"
     ]
    }
   ],
   "source": [
    "stat, p = mannwhitneyu(crisis['compound'], gw['compound'])\n",
    "print('Statistics=%.3f, p=%.10f' % (stat, p))\n",
    "# interpret\n",
    "alpha = 0.05\n",
    "if p > alpha:\n",
    "\tprint('Same distribution (fail to reject H0)')\n",
    "else:\n",
    "\tprint('Different distribution (reject H0)')"
   ]
  },
  {
   "cell_type": "markdown",
   "metadata": {},
   "source": [
    "Not all date groups are alike, but some are!"
   ]
  },
  {
   "cell_type": "code",
   "execution_count": 107,
   "metadata": {},
   "outputs": [
    {
     "name": "stdout",
     "output_type": "stream",
     "text": [
      "Statistics=7157167.000, p=0.0745772695\n",
      "Same distribution (fail to reject H0)\n"
     ]
    }
   ],
   "source": [
    "stat, p = mannwhitneyu(pre['compound'], na_only['compound'])\n",
    "print('Statistics=%.3f, p=%.10f' % (stat, p))\n",
    "# interpret\n",
    "alpha = 0.05\n",
    "if p > alpha:\n",
    "\tprint('Same distribution (fail to reject H0)')\n",
    "else:\n",
    "\tprint('Different distribution (reject H0)')"
   ]
  },
  {
   "cell_type": "code",
   "execution_count": 108,
   "metadata": {},
   "outputs": [
    {
     "name": "stdout",
     "output_type": "stream",
     "text": [
      "Statistics=3086063.500, p=0.3878471668\n",
      "Same distribution (fail to reject H0)\n"
     ]
    }
   ],
   "source": [
    "stat, p = mannwhitneyu(pre['compound'], national['compound'])\n",
    "print('Statistics=%.3f, p=%.10f' % (stat, p))\n",
    "# interpret\n",
    "alpha = 0.05\n",
    "if p > alpha:\n",
    "\tprint('Same distribution (fail to reject H0)')\n",
    "else:\n",
    "\tprint('Different distribution (reject H0)')"
   ]
  },
  {
   "cell_type": "code",
   "execution_count": 109,
   "metadata": {},
   "outputs": [
    {
     "name": "stdout",
     "output_type": "stream",
     "text": [
      "Statistics=2752720.000, p=0.1150001282\n",
      "Same distribution (fail to reject H0)\n"
     ]
    }
   ],
   "source": [
    "stat, p = mannwhitneyu(pre['compound'], SOE['compound'])\n",
    "print('Statistics=%.3f, p=%.10f' % (stat, p))\n",
    "# interpret\n",
    "alpha = 0.05\n",
    "if p > alpha:\n",
    "\tprint('Same distribution (fail to reject H0)')\n",
    "else:\n",
    "\tprint('Different distribution (reject H0)')"
   ]
  },
  {
   "cell_type": "code",
   "execution_count": 110,
   "metadata": {},
   "outputs": [
    {
     "name": "stdout",
     "output_type": "stream",
     "text": [
      "Statistics=748302.000, p=0.0000000000\n",
      "Different distribution (reject H0)\n"
     ]
    }
   ],
   "source": [
    "stat, p = mannwhitneyu(pre['compound'], hot['compound'])\n",
    "print('Statistics=%.3f, p=%.10f' % (stat, p))\n",
    "# interpret\n",
    "alpha = 0.05\n",
    "if p > alpha:\n",
    "\tprint('Same distribution (fail to reject H0)')\n",
    "else:\n",
    "\tprint('Different distribution (reject H0)')"
   ]
  },
  {
   "cell_type": "code",
   "execution_count": 111,
   "metadata": {},
   "outputs": [
    {
     "name": "stdout",
     "output_type": "stream",
     "text": [
      "Statistics=1667180.500, p=0.2376776413\n",
      "Same distribution (fail to reject H0)\n"
     ]
    }
   ],
   "source": [
    "stat, p = mannwhitneyu(na_only['compound'], national['compound'])\n",
    "print('Statistics=%.3f, p=%.10f' % (stat, p))\n",
    "# interpret\n",
    "alpha = 0.05\n",
    "if p > alpha:\n",
    "\tprint('Same distribution (fail to reject H0)')\n",
    "else:\n",
    "\tprint('Different distribution (reject H0)')"
   ]
  },
  {
   "cell_type": "code",
   "execution_count": 112,
   "metadata": {},
   "outputs": [
    {
     "name": "stdout",
     "output_type": "stream",
     "text": [
      "Statistics=1470964.000, p=0.0197773021\n",
      "Different distribution (reject H0)\n"
     ]
    }
   ],
   "source": [
    "stat, p = mannwhitneyu(na_only['compound'], SOE['compound'])\n",
    "print('Statistics=%.3f, p=%.10f' % (stat, p))\n",
    "# interpret\n",
    "alpha = 0.05\n",
    "if p > alpha:\n",
    "\tprint('Same distribution (fail to reject H0)')\n",
    "else:\n",
    "\tprint('Different distribution (reject H0)')"
   ]
  },
  {
   "cell_type": "code",
   "execution_count": 113,
   "metadata": {},
   "outputs": [
    {
     "name": "stdout",
     "output_type": "stream",
     "text": [
      "Statistics=400276.000, p=0.0000000000\n",
      "Different distribution (reject H0)\n"
     ]
    }
   ],
   "source": [
    "stat, p = mannwhitneyu(na_only['compound'], hot['compound'])\n",
    "print('Statistics=%.3f, p=%.10f' % (stat, p))\n",
    "# interpret\n",
    "alpha = 0.05\n",
    "if p > alpha:\n",
    "\tprint('Same distribution (fail to reject H0)')\n",
    "else:\n",
    "\tprint('Different distribution (reject H0)')"
   ]
  },
  {
   "cell_type": "code",
   "execution_count": 114,
   "metadata": {},
   "outputs": [
    {
     "name": "stdout",
     "output_type": "stream",
     "text": [
      "Statistics=634160.500, p=0.1179500545\n",
      "Same distribution (fail to reject H0)\n"
     ]
    }
   ],
   "source": [
    "stat, p = mannwhitneyu(national['compound'], SOE['compound'])\n",
    "print('Statistics=%.3f, p=%.10f' % (stat, p))\n",
    "# interpret\n",
    "alpha = 0.05\n",
    "if p > alpha:\n",
    "\tprint('Same distribution (fail to reject H0)')\n",
    "else:\n",
    "\tprint('Different distribution (reject H0)')"
   ]
  },
  {
   "cell_type": "code",
   "execution_count": 115,
   "metadata": {},
   "outputs": [
    {
     "name": "stdout",
     "output_type": "stream",
     "text": [
      "Statistics=172230.000, p=0.0000000000\n",
      "Different distribution (reject H0)\n"
     ]
    }
   ],
   "source": [
    "stat, p = mannwhitneyu(national['compound'], hot['compound'])\n",
    "print('Statistics=%.3f, p=%.10f' % (stat, p))\n",
    "# interpret\n",
    "alpha = 0.05\n",
    "if p > alpha:\n",
    "\tprint('Same distribution (fail to reject H0)')\n",
    "else:\n",
    "\tprint('Different distribution (reject H0)')"
   ]
  },
  {
   "cell_type": "code",
   "execution_count": 116,
   "metadata": {},
   "outputs": [
    {
     "name": "stdout",
     "output_type": "stream",
     "text": [
      "Statistics=163374.500, p=0.0000000000\n",
      "Different distribution (reject H0)\n"
     ]
    }
   ],
   "source": [
    "stat, p = mannwhitneyu(SOE['compound'], hot['compound'])\n",
    "print('Statistics=%.3f, p=%.10f' % (stat, p))\n",
    "# interpret\n",
    "alpha = 0.05\n",
    "if p > alpha:\n",
    "\tprint('Same distribution (fail to reject H0)')\n",
    "else:\n",
    "\tprint('Different distribution (reject H0)')"
   ]
  },
  {
   "cell_type": "markdown",
   "metadata": {},
   "source": [
    "#### A Summary Image of Date Group Comparisons"
   ]
  },
  {
   "cell_type": "code",
   "execution_count": 119,
   "metadata": {},
   "outputs": [
    {
     "data": {
      "image/png": "[encoded data removed]",
      "text/plain": [
       "<IPython.core.display.Image object>"
      ]
     },
     "execution_count": 119,
     "metadata": {},
     "output_type": "execute_result"
    }
   ],
   "source": [
    "from IPython.display import Image\n",
    "Image(\"Differences.png\")"
   ]
  }
 ],
 "metadata": {
  "kernelspec": {
   "display_name": "Python 3",
   "language": "python",
   "name": "python3"
  },
  "language_info": {
   "codemirror_mode": {
    "name": "ipython",
    "version": 3
   },
   "file_extension": ".py",
   "mimetype": "text/x-python",
   "name": "python",
   "nbconvert_exporter": "python",
   "pygments_lexer": "ipython3",
   "version": "3.7.0"
  }
 },
 "nbformat": 4,
 "nbformat_minor": 2
}
